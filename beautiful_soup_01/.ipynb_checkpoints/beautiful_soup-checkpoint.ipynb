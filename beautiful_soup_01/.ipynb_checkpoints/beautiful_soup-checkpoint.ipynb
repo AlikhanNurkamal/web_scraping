{
 "cells": [
  {
   "cell_type": "code",
   "execution_count": 1,
   "id": "e20e6c43",
   "metadata": {},
   "outputs": [],
   "source": [
    "import requests\n",
    "from bs4 import BeautifulSoup"
   ]
  },
  {
   "cell_type": "markdown",
   "id": "63293acc",
   "metadata": {},
   "source": [
    "### Testing webscaping on a simple website"
   ]
  },
  {
   "cell_type": "code",
   "execution_count": 2,
   "id": "f74385e8",
   "metadata": {
    "scrolled": true
   },
   "outputs": [
    {
     "data": {
      "text/plain": [
       "<div class=\"what-i\">\n",
       "<div class=\"container\">\n",
       "<div class=\"wrapper\">\n",
       "<article>\n",
       "<h2>\n",
       "                        What can i do.\n",
       "                    </h2>\n",
       "</article>\n",
       "<div class=\"images\">\n",
       "</div>\n",
       "<div class=\"desc\">\n",
       "<div class=\"deets\">\n",
       "<h3>\n",
       "                            Solve problems on the backend\n",
       "                        </h3>\n",
       "<p>\n",
       "                            I like to solve problems related to the integration of new functionality for web applications, systems\n",
       "                        </p>\n",
       "</div>\n",
       "<div class=\"deets\">\n",
       "<h3>\n",
       "                            Develop what you need.\n",
       "                        </h3>\n",
       "<p>\n",
       "                            I'm a developer, so I know how to create your website to run across devices using the latest technologies available.\n",
       "                        </p>\n",
       "</div>\n",
       "</div>\n",
       "</div>\n",
       "</div>\n",
       "</div>"
      ]
     },
     "execution_count": 2,
     "metadata": {},
     "output_type": "execute_result"
    }
   ],
   "source": [
    "page = requests.get( \"https://nurikn999.github.io/WebDevelopment/my-site/\" ).text\n",
    "\n",
    "soup = BeautifulSoup( page, \"html.parser\" )\n",
    "\n",
    "div = soup.find( name = \"div\", class_ = \"what-i\" )\n",
    "\n",
    "div"
   ]
  },
  {
   "cell_type": "code",
   "execution_count": 3,
   "id": "afa0697d",
   "metadata": {},
   "outputs": [
    {
     "data": {
      "text/plain": [
       "<div class=\"wrapper\">\n",
       "<article>\n",
       "<h2>\n",
       "                        What can i do.\n",
       "                    </h2>\n",
       "</article>\n",
       "<div class=\"images\">\n",
       "</div>\n",
       "<div class=\"desc\">\n",
       "<div class=\"deets\">\n",
       "<h3>\n",
       "                            Solve problems on the backend\n",
       "                        </h3>\n",
       "<p>\n",
       "                            I like to solve problems related to the integration of new functionality for web applications, systems\n",
       "                        </p>\n",
       "</div>\n",
       "<div class=\"deets\">\n",
       "<h3>\n",
       "                            Develop what you need.\n",
       "                        </h3>\n",
       "<p>\n",
       "                            I'm a developer, so I know how to create your website to run across devices using the latest technologies available.\n",
       "                        </p>\n",
       "</div>\n",
       "</div>\n",
       "</div>"
      ]
     },
     "execution_count": 3,
     "metadata": {},
     "output_type": "execute_result"
    }
   ],
   "source": [
    "wrapper = div.find( name = \"div\", class_ = \"wrapper\" )\n",
    "wrapper"
   ]
  },
  {
   "cell_type": "code",
   "execution_count": 4,
   "id": "5ca58e18",
   "metadata": {},
   "outputs": [],
   "source": [
    "headers = []\n",
    "text = []\n",
    "for i in wrapper.find_all( \"h3\" ):\n",
    "    headers.append( i.text.strip( ) )\n",
    "    \n",
    "for i in wrapper.find_all( \"p\" ):\n",
    "    text.append( i.text.strip( ) )"
   ]
  },
  {
   "cell_type": "code",
   "execution_count": 5,
   "id": "1ea74be6",
   "metadata": {},
   "outputs": [
    {
     "data": {
      "text/plain": [
       "['Solve problems on the backend', 'Develop what you need.']"
      ]
     },
     "execution_count": 5,
     "metadata": {},
     "output_type": "execute_result"
    }
   ],
   "source": [
    "headers"
   ]
  },
  {
   "cell_type": "code",
   "execution_count": 6,
   "id": "390f3dfb",
   "metadata": {},
   "outputs": [
    {
     "data": {
      "text/plain": [
       "['I like to solve problems related to the integration of new functionality for web applications, systems',\n",
       " \"I'm a developer, so I know how to create your website to run across devices using the latest technologies available.\"]"
      ]
     },
     "execution_count": 6,
     "metadata": {},
     "output_type": "execute_result"
    }
   ],
   "source": [
    "text"
   ]
  },
  {
   "cell_type": "code",
   "execution_count": 7,
   "id": "dae9e83f",
   "metadata": {},
   "outputs": [
    {
     "name": "stdout",
     "output_type": "stream",
     "text": [
      "Header: Solve problems on the backend \n",
      "  Text: I like to solve problems related to the integration of new functionality for web applications, systems\n",
      "Header: Develop what you need. \n",
      "  Text: I'm a developer, so I know how to create your website to run across devices using the latest technologies available.\n"
     ]
    }
   ],
   "source": [
    "for h, t in zip( headers, text ):\n",
    "    print( \"Header:\", h, \"\\n \", \"Text:\", t )"
   ]
  },
  {
   "cell_type": "markdown",
   "id": "fc919723",
   "metadata": {},
   "source": [
    "### Getting ethnic groups of the population of Kazakhstan from Wikipedia"
   ]
  },
  {
   "cell_type": "code",
   "execution_count": 8,
   "id": "5316fd1a",
   "metadata": {},
   "outputs": [
    {
     "data": {
      "text/plain": [
       "<tbody><tr><th class=\"infobox-above adr\" colspan=\"2\"><div class=\"fn org country-name\">Republic of Kazakhstan</div><div class=\"ib-country-names\"><div class=\"plainlist\"><ul><li><span title=\"Kazakh-language text\"><span lang=\"kk\" style=\"font-style: normal;\">Қазақстан Республикасы</span></span> <span class=\"languageicon\" style=\"font-size:100%; font-weight:normal\">(<a href=\"/wiki/Kazakh_language\" title=\"Kazakh language\">Kazakh</a>)</span><br/><span style=\"font-size:85%;\"><span title=\"Kazakh-language text\"><i lang=\"kk-Latn\">Qazaqstan Respublikasy</i></span></span></li><li><span title=\"Russian-language text\"><span lang=\"ru\" style=\"font-style: normal;\">Республика Казахстан</span></span> <span class=\"languageicon\" style=\"font-size:100%; font-weight:normal\">(<a href=\"/wiki/Russian_language\" title=\"Russian language\">Russian</a>)</span><br/><span style=\"font-size:85%;\"><span title=\"Russian-language romanization\"><i lang=\"ru-Latn\">Respublika Kazakhstan</i></span></span></li></ul></div></div></th></tr><tr><td class=\"infobox-image\" colspan=\"2\"><div style=\"display:table; width:100%;\">\n",
       "<div style=\"display:table-cell; vertical-align:middle; padding-left:5px;\">\n",
       "<div style=\"padding-bottom:3px;\"><a class=\"image\" href=\"/wiki/File:Flag_of_Kazakhstan.svg\" title=\"Flag of Kazakhstan\"><img alt=\"Flag of Kazakhstan\" class=\"thumbborder\" data-file-height=\"500\" data-file-width=\"1000\" decoding=\"async\" height=\"63\" src=\"//upload.wikimedia.org/wikipedia/commons/thumb/d/d3/Flag_of_Kazakhstan.svg/125px-Flag_of_Kazakhstan.svg.png\" srcset=\"//upload.wikimedia.org/wikipedia/commons/thumb/d/d3/Flag_of_Kazakhstan.svg/188px-Flag_of_Kazakhstan.svg.png 1.5x, //upload.wikimedia.org/wikipedia/commons/thumb/d/d3/Flag_of_Kazakhstan.svg/250px-Flag_of_Kazakhstan.svg.png 2x\" width=\"125\"/></a></div>\n",
       "<div><a href=\"/wiki/Flag_of_Kazakhstan\" title=\"Flag of Kazakhstan\">Flag</a></div>\n",
       "</div>\n",
       "<div style=\"display:table-cell; vertical-align:middle; padding: 0px 5px;\">\n",
       "<div style=\"padding-bottom:3px;\"><a class=\"image\" href=\"/wiki/File:Emblem_of_Kazakhstan_latin.svg\" title=\"Emblem of Kazakhstan\"><img alt=\"Emblem of Kazakhstan\" data-file-height=\"400\" data-file-width=\"400\" decoding=\"async\" height=\"85\" src=\"//upload.wikimedia.org/wikipedia/commons/thumb/e/ee/Emblem_of_Kazakhstan_latin.svg/85px-Emblem_of_Kazakhstan_latin.svg.png\" srcset=\"//upload.wikimedia.org/wikipedia/commons/thumb/e/ee/Emblem_of_Kazakhstan_latin.svg/128px-Emblem_of_Kazakhstan_latin.svg.png 1.5x, //upload.wikimedia.org/wikipedia/commons/thumb/e/ee/Emblem_of_Kazakhstan_latin.svg/170px-Emblem_of_Kazakhstan_latin.svg.png 2x\" width=\"85\"/></a></div>\n",
       "<div><a href=\"/wiki/Emblem_of_Kazakhstan\" title=\"Emblem of Kazakhstan\"> Emblem</a></div>\n",
       "</div>\n",
       "</div></td></tr><tr><td class=\"infobox-full-data anthem\" colspan=\"2\"><b>Anthem:</b> <span title=\"Kazakh-language text\"><span lang=\"kk\" style=\"font-style: normal;\">Менің Қазақстаным</span></span> <span class=\"languageicon\" style=\"font-size:100%; font-weight:normal\">(Kazakh)</span><br/><span title=\"Kazakh-language romanization\"><i lang=\"kk-Latn\"><a href=\"/wiki/Men%C4%B1%C3%B1_Qazaqstanym\" title=\"Menıñ Qazaqstanym\">Menıñ Qazaqstanym</a></i></span><br/>\"My Kazakhstan\"<div class=\"paragraphbreak\" style=\"margin-top:0.5em\"></div><div class=\"center\" style=\"width:auto; margin-left:auto; margin-right:auto;\"><audio controls=\"\" data-durationhint=\"93\" data-mwprovider=\"wikimediacommons\" data-mwtitle=\"Kazakhstan_National_Anthem_2012.ogg\" id=\"mwe_player_0\" preload=\"none\" style=\"width:220px;\" width=\"220\"><source data-bandwidth=\"141576\" data-height=\"0\" data-shorttitle=\"Ogg source\" data-title=\"Original Ogg file (142 kbps)\" data-width=\"0\" src=\"//upload.wikimedia.org/wikipedia/commons/a/a9/Kazakhstan_National_Anthem_2012.ogg\" type='audio/ogg; codecs=\"vorbis\"'/><source data-bandwidth=\"207040\" data-height=\"0\" data-shorttitle=\"MP3\" data-title=\"MP3\" data-transcodekey=\"mp3\" data-width=\"0\" src=\"//upload.wikimedia.org/wikipedia/commons/transcoded/a/a9/Kazakhstan_National_Anthem_2012.ogg/Kazakhstan_National_Anthem_2012.ogg.mp3\" type=\"audio/mpeg\"/><track data-dir=\"ltr\" kind=\"subtitles\" label=\"беларуская (тарашкевіца) ‪(be-tarask)‬\" src=\"https://commons.wikimedia.org/w/api.php?action=timedtext&amp;title=File%3AKazakhstan_National_Anthem_2012.ogg&amp;lang=be-tarask&amp;trackformat=vtt&amp;origin=%2A\" srclang=\"be-tarask\" type=\"text/vtt\"/><track data-dir=\"ltr\" kind=\"subtitles\" label=\"беларуская ‪(be)‬\" src=\"https://commons.wikimedia.org/w/api.php?action=timedtext&amp;title=File%3AKazakhstan_National_Anthem_2012.ogg&amp;lang=be&amp;trackformat=vtt&amp;origin=%2A\" srclang=\"be\" type=\"text/vtt\"/><track data-dir=\"ltr\" kind=\"subtitles\" label=\"English ‪(en)‬\" src=\"https://commons.wikimedia.org/w/api.php?action=timedtext&amp;title=File%3AKazakhstan_National_Anthem_2012.ogg&amp;lang=en&amp;trackformat=vtt&amp;origin=%2A\" srclang=\"en\" type=\"text/vtt\"/><track data-dir=\"ltr\" kind=\"subtitles\" label=\"español ‪(es)‬\" src=\"https://commons.wikimedia.org/w/api.php?action=timedtext&amp;title=File%3AKazakhstan_National_Anthem_2012.ogg&amp;lang=es&amp;trackformat=vtt&amp;origin=%2A\" srclang=\"es\" type=\"text/vtt\"/><track data-dir=\"ltr\" kind=\"subtitles\" label=\"қазақша (Қазақстан) ‪(kk-kz)‬\" src=\"https://commons.wikimedia.org/w/api.php?action=timedtext&amp;title=File%3AKazakhstan_National_Anthem_2012.ogg&amp;lang=kk-kz&amp;trackformat=vtt&amp;origin=%2A\" srclang=\"kk-KZ\" type=\"text/vtt\"/><track data-dir=\"ltr\" kind=\"subtitles\" label=\"қазақша ‪(kk)‬\" src=\"https://commons.wikimedia.org/w/api.php?action=timedtext&amp;title=File%3AKazakhstan_National_Anthem_2012.ogg&amp;lang=kk&amp;trackformat=vtt&amp;origin=%2A\" srclang=\"kk\" type=\"text/vtt\"/><track data-dir=\"ltr\" kind=\"subtitles\" label=\"polski ‪(pl)‬\" src=\"https://commons.wikimedia.org/w/api.php?action=timedtext&amp;title=File%3AKazakhstan_National_Anthem_2012.ogg&amp;lang=pl&amp;trackformat=vtt&amp;origin=%2A\" srclang=\"pl\" type=\"text/vtt\"/><track data-dir=\"ltr\" kind=\"subtitles\" label=\"русский ‪(ru)‬\" src=\"https://commons.wikimedia.org/w/api.php?action=timedtext&amp;title=File%3AKazakhstan_National_Anthem_2012.ogg&amp;lang=ru&amp;trackformat=vtt&amp;origin=%2A\" srclang=\"ru\" type=\"text/vtt\"/><track data-dir=\"ltr\" kind=\"subtitles\" label=\"Tagalog ‪(tl)‬\" src=\"https://commons.wikimedia.org/w/api.php?action=timedtext&amp;title=File%3AKazakhstan_National_Anthem_2012.ogg&amp;lang=tl&amp;trackformat=vtt&amp;origin=%2A\" srclang=\"tl\" type=\"text/vtt\"/><track data-dir=\"ltr\" kind=\"subtitles\" label=\"Türkçe ‪(tr)‬\" src=\"https://commons.wikimedia.org/w/api.php?action=timedtext&amp;title=File%3AKazakhstan_National_Anthem_2012.ogg&amp;lang=tr&amp;trackformat=vtt&amp;origin=%2A\" srclang=\"tr\" type=\"text/vtt\"/><track data-dir=\"ltr\" kind=\"subtitles\" label=\"українська ‪(uk)‬\" src=\"https://commons.wikimedia.org/w/api.php?action=timedtext&amp;title=File%3AKazakhstan_National_Anthem_2012.ogg&amp;lang=uk&amp;trackformat=vtt&amp;origin=%2A\" srclang=\"uk\" type=\"text/vtt\"/><track data-dir=\"ltr\" kind=\"subtitles\" label=\"中文（简体） ‪(zh-hans)‬\" src=\"https://commons.wikimedia.org/w/api.php?action=timedtext&amp;title=File%3AKazakhstan_National_Anthem_2012.ogg&amp;lang=zh-hans&amp;trackformat=vtt&amp;origin=%2A\" srclang=\"zh-Hans\" type=\"text/vtt\"/><track data-dir=\"ltr\" kind=\"subtitles\" label=\"中文 ‪(zh)‬\" src=\"https://commons.wikimedia.org/w/api.php?action=timedtext&amp;title=File%3AKazakhstan_National_Anthem_2012.ogg&amp;lang=zh&amp;trackformat=vtt&amp;origin=%2A\" srclang=\"zh\" type=\"text/vtt\"/></audio></div></td></tr><tr><td class=\"infobox-full-data\" colspan=\"2\"><a class=\"image\" href=\"/wiki/File:Kazakhstan_(orthographic_projection).svg\"><img alt=\"Kazakhstan (orthographic projection).svg\" data-file-height=\"553\" data-file-width=\"553\" decoding=\"async\" height=\"250\" src=\"//upload.wikimedia.org/wikipedia/commons/thumb/3/3e/Kazakhstan_%28orthographic_projection%29.svg/250px-Kazakhstan_%28orthographic_projection%29.svg.png\" srcset=\"//upload.wikimedia.org/wikipedia/commons/thumb/3/3e/Kazakhstan_%28orthographic_projection%29.svg/375px-Kazakhstan_%28orthographic_projection%29.svg.png 1.5x, //upload.wikimedia.org/wikipedia/commons/thumb/3/3e/Kazakhstan_%28orthographic_projection%29.svg/500px-Kazakhstan_%28orthographic_projection%29.svg.png 2x\" width=\"250\"/></a></td></tr><tr><th class=\"infobox-label\" scope=\"row\">Capital</th><td class=\"infobox-data\"><a href=\"/wiki/Nur-Sultan\" title=\"Nur-Sultan\">Nur-Sultan</a><br/><style data-mw-deduplicate=\"TemplateStyles:r1073938472\">.mw-parser-output .geo-default,.mw-parser-output .geo-dms,.mw-parser-output .geo-dec{display:inline}.mw-parser-output .geo-nondefault,.mw-parser-output .geo-multi-punct{display:none}.mw-parser-output .longitude,.mw-parser-output .latitude{white-space:nowrap}</style><span class=\"plainlinks nourlexpansion\"><a class=\"external text\" href=\"//geohack.toolforge.org/geohack.php?pagename=Kazakhstan&amp;params=51_10_N_71_26_E_type:city\"><span class=\"geo-default\"><span class=\"geo-dms\" title=\"Maps, aerial photos, and other data for this location\"><span class=\"latitude\">51°10′N</span> <span class=\"longitude\">71°26′E</span></span></span><span class=\"geo-multi-punct\">﻿ / ﻿</span><span class=\"geo-nondefault\"><span class=\"geo-dec\" title=\"Maps, aerial photos, and other data for this location\">51.167°N 71.433°E</span><span style=\"display:none\">﻿ / <span class=\"geo\">51.167; 71.433</span></span></span></a></span></td></tr><tr class=\"mergedbottomrow\"><th class=\"infobox-label\" scope=\"row\">Largest city</th><td class=\"infobox-data\"><a href=\"/wiki/Almaty\" title=\"Almaty\">Almaty</a><br/><link href=\"mw-data:TemplateStyles:r1073938472\" rel=\"mw-deduplicated-inline-style\"/><span class=\"plainlinks nourlexpansion\"><a class=\"external text\" href=\"//geohack.toolforge.org/geohack.php?pagename=Kazakhstan&amp;params=43_16_39_N_76_53_45_E_type:city\"><span class=\"geo-default\"><span class=\"geo-dms\" title=\"Maps, aerial photos, and other data for this location\"><span class=\"latitude\">43°16′39″N</span> <span class=\"longitude\">76°53′45″E</span></span></span><span class=\"geo-multi-punct\">﻿ / ﻿</span><span class=\"geo-nondefault\"><span class=\"geo-dec\" title=\"Maps, aerial photos, and other data for this location\">43.27750°N 76.89583°E</span><span style=\"display:none\">﻿ / <span class=\"geo\">43.27750; 76.89583</span></span></span></a></span></td></tr><tr class=\"mergedtoprow\"><th class=\"infobox-label\" scope=\"row\">Official languages</th><td class=\"infobox-data\"><a href=\"/wiki/Kazakh_language\" title=\"Kazakh language\">Kazakh</a></td></tr><tr class=\"mergedbottomrow\"><th class=\"infobox-label\" scope=\"row\"><div class=\"ib-country-lang\">Co-official</div></th><td class=\"infobox-data\"><a href=\"/wiki/Russian_language\" title=\"Russian language\">Russian</a><sup class=\"reference\" id=\"cite_ref-co-official_languages_2-0\"><a href=\"#cite_note-co-official_languages-2\">[a]</a></sup></td></tr><tr><th class=\"infobox-label\" scope=\"row\"><a href=\"/wiki/Spoken_language\" title=\"Spoken language\">Spoken languages</a></th><td class=\"infobox-data\"><a href=\"/wiki/Kazakh_language\" title=\"Kazakh language\">Kazakh</a> • <a href=\"/wiki/Russian_language\" title=\"Russian language\">Russian</a> • <a href=\"/wiki/Uzbek_language\" title=\"Uzbek language\">Uzbek</a> • <a href=\"/wiki/Uyghur_language\" title=\"Uyghur language\">Uyghur</a> • <a href=\"/wiki/Turkmen_language\" title=\"Turkmen language\">Turkmen</a> • <a href=\"/wiki/Ukrainian_language\" title=\"Ukrainian language\">Ukrainian</a> • <a href=\"/wiki/Azerbaijani_language\" title=\"Azerbaijani language\">Azerbaijani</a> • <a href=\"/wiki/Tatar_language\" title=\"Tatar language\">Tatar</a> and <a href=\"/wiki/Languages_of_Kazakhstan\" title=\"Languages of Kazakhstan\">Others</a></td></tr><tr><th class=\"infobox-label\" scope=\"row\"><a href=\"/wiki/Ethnic_group\" title=\"Ethnic group\">Ethnic groups</a> <div class=\"ib-country-ethnic\"> (2020)<sup class=\"reference\" id=\"cite_ref-KZ2020_3-0\"><a href=\"#cite_note-KZ2020-3\">[2]</a></sup></div></th><td class=\"infobox-data\"><div class=\"plainlist\"><ul><li>68.5% <a href=\"/wiki/Kazakhs\" title=\"Kazakhs\">Kazakh</a></li><li>18.9% <a href=\"/wiki/Russians_in_Kazakhstan\" title=\"Russians in Kazakhstan\">Russian</a></li><li>3.3% <a class=\"mw-redirect\" href=\"/wiki/Uzbeks_in_Kazakhstan\" title=\"Uzbeks in Kazakhstan\">Uzbek</a></li><li>1.5% <a href=\"/wiki/Uyghurs_in_Kazakhstan\" title=\"Uyghurs in Kazakhstan\">Uyghur</a></li><li>1.4% <a href=\"/wiki/Ukrainians_in_Kazakhstan\" title=\"Ukrainians in Kazakhstan\">Ukrainian</a></li><li>1.1% <a class=\"mw-redirect\" href=\"/wiki/Tatars_in_Kazakhstan\" title=\"Tatars in Kazakhstan\">Tatar</a></li><li>1.0% <a class=\"mw-redirect\" href=\"/wiki/Germans_in_Kazakhstan\" title=\"Germans in Kazakhstan\">German</a></li><li>4.5% <a href=\"/wiki/Ethnic_demography_of_Kazakhstan\" title=\"Ethnic demography of Kazakhstan\">Others</a></li></ul></div></td></tr><tr><th class=\"infobox-label\" scope=\"row\">Religion <div class=\"ib-country-religion\"> (2020)<sup class=\"reference\" id=\"cite_ref-RLG2020_4-0\"><a href=\"#cite_note-RLG2020-4\">[3]</a></sup></div></th><td class=\"infobox-data\"><div class=\"plainlist\"><ul><li style=\"white-space:nowrap;\">72.0% <a href=\"/wiki/Islam_in_Kazakhstan\" title=\"Islam in Kazakhstan\">Islam</a></li><li style=\"white-space:nowrap;\">23.1% <a href=\"/wiki/Christianity_in_Kazakhstan\" title=\"Christianity in Kazakhstan\">Christianity</a></li><li style=\"white-space:nowrap;\">5.0% <a href=\"/wiki/Religion_in_Kazakhstan\" title=\"Religion in Kazakhstan\">Others</a></li><li style=\"white-space:nowrap;\">4.0% <a href=\"/wiki/Irreligion_in_Kazakhstan\" title=\"Irreligion in Kazakhstan\">No religion</a></li></ul></div></td></tr><tr><th class=\"infobox-label\" scope=\"row\"><a href=\"/wiki/Demonym\" title=\"Demonym\">Demonym(s)</a></th><td class=\"infobox-data\">Kazakhstani<sup class=\"reference\" id=\"cite_ref-6\"><a href=\"#cite_note-6\">[b]</a></sup><sup class=\"reference\" id=\"cite_ref-CIA_7-0\"><a href=\"#cite_note-CIA-7\">[5]</a></sup></td></tr><tr><th class=\"infobox-label\" scope=\"row\"><a href=\"/wiki/Politics_of_Kazakhstan\" title=\"Politics of Kazakhstan\">Government</a></th><td class=\"infobox-data\"><a href=\"/wiki/Unitary_state\" title=\"Unitary state\">Unitary</a> <a href=\"/wiki/Dominant-party_system\" title=\"Dominant-party system\">dominant-party</a> <a href=\"/wiki/Presidential_system\" title=\"Presidential system\">presidential</a> <a href=\"/wiki/Republic\" title=\"Republic\">republic</a></td></tr><tr class=\"mergedrow\"><td class=\"infobox-full-data\" colspan=\"2\"><link href=\"mw-data:TemplateStyles:r1066479718\" rel=\"mw-deduplicated-inline-style\"/></td></tr><tr class=\"mergedrow\"><th class=\"infobox-label\" scope=\"row\"><div style=\"text-indent:-0.9em;margin-left:1.2em;font-weight:normal;\">• <a href=\"/wiki/President_of_Kazakhstan\" title=\"President of Kazakhstan\">President</a> </div></th><td class=\"infobox-data\"><a href=\"/wiki/Kassym-Jomart_Tokayev\" title=\"Kassym-Jomart Tokayev\">Kassym-Jomart Tokayev</a></td></tr><tr class=\"mergedrow\"><th class=\"infobox-label\" scope=\"row\"><div style=\"text-indent:-0.9em;margin-left:1.2em;font-weight:normal;\">• <a href=\"/wiki/Prime_Minister_of_Kazakhstan\" title=\"Prime Minister of Kazakhstan\">Prime Minister</a> </div></th><td class=\"infobox-data\"><a class=\"mw-redirect\" href=\"/wiki/Alihan_Smaiylov\" title=\"Alihan Smaiylov\">Alihan Smaiylov</a></td></tr><tr style=\"display:none\"><td colspan=\"2\">\n",
       "</td></tr><tr><th class=\"infobox-label\" scope=\"row\">Legislature</th><td class=\"infobox-data\"><a href=\"/wiki/Parliament_of_Kazakhstan\" title=\"Parliament of Kazakhstan\">Parliament</a></td></tr><tr class=\"mergedrow\"><th class=\"infobox-label\" scope=\"row\"><div class=\"ib-country-fake-li\">• <a href=\"/wiki/Upper_house\" title=\"Upper house\">Upper house</a></div></th><td class=\"infobox-data\"><a href=\"/wiki/Senate_of_Kazakhstan\" title=\"Senate of Kazakhstan\">Senate</a></td></tr><tr class=\"mergedbottomrow\"><th class=\"infobox-label\" scope=\"row\"><div class=\"ib-country-fake-li\">• <a href=\"/wiki/Lower_house\" title=\"Lower house\">Lower house</a></div></th><td class=\"infobox-data\"><a class=\"mw-redirect\" href=\"/wiki/Mazhilis\" title=\"Mazhilis\">Mazhilis</a></td></tr><tr class=\"mergedtoprow\"><th class=\"infobox-header\" colspan=\"2\"><a href=\"/wiki/History_of_Kazakhstan\" title=\"History of Kazakhstan\">Formation</a></th></tr><tr class=\"mergedrow\"><td class=\"infobox-full-data\" colspan=\"2\"><link href=\"mw-data:TemplateStyles:r1066479718\" rel=\"mw-deduplicated-inline-style\"/></td></tr><tr class=\"mergedrow\"><th class=\"infobox-label\" scope=\"row\"><div style=\"text-indent:-0.9em;margin-left:1.2em;font-weight:normal;\">• <a href=\"/wiki/Kazakh_Khanate\" title=\"Kazakh Khanate\">Kazakh Khanate</a> </div></th><td class=\"infobox-data\">1465</td></tr><tr class=\"mergedrow\"><th class=\"infobox-label\" scope=\"row\"><div style=\"text-indent:-0.9em;margin-left:1.2em;font-weight:normal;\">• <a href=\"/wiki/Alash_Autonomy\" title=\"Alash Autonomy\">Alash Autonomy</a> </div></th><td class=\"infobox-data\">13 December 1917</td></tr><tr class=\"mergedrow\"><th class=\"infobox-label\" scope=\"row\"><div style=\"text-indent:-0.9em;margin-left:1.2em;font-weight:normal;\">• <a class=\"mw-redirect\" href=\"/wiki/Kirghiz_Autonomous_Socialist_Soviet_Republic_(1920%E2%80%9325)\" title=\"Kirghiz Autonomous Socialist Soviet Republic (1920–25)\">Kirghiz ASSR</a> </div></th><td class=\"infobox-data\">26 August 1920</td></tr><tr class=\"mergedrow\"><th class=\"infobox-label\" scope=\"row\"><div style=\"text-indent:-0.9em;margin-left:1.2em;font-weight:normal;\">• <a href=\"/wiki/Kazakh_Autonomous_Socialist_Soviet_Republic\" title=\"Kazakh Autonomous Socialist Soviet Republic\">Kazakh ASSR</a> </div></th><td class=\"infobox-data\"><span class=\"nowrap\">19 June 1925</span></td></tr><tr class=\"mergedrow\"><th class=\"infobox-label\" scope=\"row\"><div style=\"text-indent:-0.9em;margin-left:1.2em;font-weight:normal;\">• <a href=\"/wiki/Kazakh_Soviet_Socialist_Republic\" title=\"Kazakh Soviet Socialist Republic\">Kazakh SSR</a> </div></th><td class=\"infobox-data\">5 December 1936</td></tr><tr class=\"mergedrow\"><th class=\"infobox-label\" scope=\"row\"><div style=\"text-indent:-0.9em;margin-left:1.2em;font-weight:normal;\">• Declaration of Sovereignty </div></th><td class=\"infobox-data\">25 October 1990</td></tr><tr class=\"mergedrow\"><th class=\"infobox-label\" scope=\"row\"><div style=\"text-indent:-0.9em;margin-left:1.2em;font-weight:normal;\">• Reconstituted as the Republic of Kazakhstan </div></th><td class=\"infobox-data\">10 December 1991</td></tr><tr class=\"mergedrow\"><th class=\"infobox-label\" scope=\"row\"><div style=\"text-indent:-0.9em;margin-left:1.2em;font-weight:normal;\">• Independence from <a href=\"/wiki/Soviet_Union\" title=\"Soviet Union\">USSR</a> </div></th><td class=\"infobox-data\">16 December 1991</td></tr><tr class=\"mergedrow\"><th class=\"infobox-label\" scope=\"row\"><div style=\"text-indent:-0.9em;margin-left:1.2em;font-weight:normal;\">• <a href=\"/wiki/Alma-Ata_Protocol\" title=\"Alma-Ata Protocol\">CIS Accession</a> </div></th><td class=\"infobox-data\">21 December 1991</td></tr><tr class=\"mergedrow\"><th class=\"infobox-label\" scope=\"row\"><div style=\"text-indent:-0.9em;margin-left:1.2em;font-weight:normal;\">• <a href=\"/wiki/Dissolution_of_the_Soviet_Union\" title=\"Dissolution of the Soviet Union\">Recognised</a> </div></th><td class=\"infobox-data\"><span class=\"nowrap\">26 December 1991</span></td></tr><tr class=\"mergedrow\"><th class=\"infobox-label\" scope=\"row\"><div style=\"text-indent:-0.9em;margin-left:1.2em;font-weight:normal;\">• <a href=\"/wiki/United_Nations_Security_Council_Resolution_732\" title=\"United Nations Security Council Resolution 732\">Admitted to the</a> <a href=\"/wiki/United_Nations\" title=\"United Nations\">UN</a> </div></th><td class=\"infobox-data\">2 March 1992</td></tr><tr class=\"mergedrow\"><th class=\"infobox-label\" scope=\"row\"><div style=\"text-indent:-0.9em;margin-left:1.2em;font-weight:normal;\">• <span class=\"nowrap\"><a href=\"/wiki/Constitution_of_Kazakhstan\" title=\"Constitution of Kazakhstan\">Current constitution</a></span> </div></th><td class=\"infobox-data\">30 August 1995</td></tr><tr style=\"display:none\"><td colspan=\"2\">\n",
       "</td></tr><tr class=\"mergedtoprow\"><th class=\"infobox-header\" colspan=\"2\"><a href=\"/wiki/Geography_of_Kazakhstan\" title=\"Geography of Kazakhstan\">Area </a></th></tr><tr class=\"mergedrow\"><th class=\"infobox-label\" scope=\"row\"><div class=\"ib-country-fake-li\">• Total</div></th><td class=\"infobox-data\">2,724,900 km<sup>2</sup> (1,052,100 sq mi) (<a href=\"/wiki/List_of_countries_and_dependencies_by_area\" title=\"List of countries and dependencies by area\">9th</a>)</td></tr><tr class=\"mergedbottomrow\"><th class=\"infobox-label\" scope=\"row\"><div class=\"ib-country-fake-li\">• Water (%)</div></th><td class=\"infobox-data\">1.7</td></tr><tr class=\"mergedtoprow\"><th class=\"infobox-header\" colspan=\"2\"><a href=\"/wiki/Demographics_of_Kazakhstan\" title=\"Demographics of Kazakhstan\">Population</a></th></tr><tr class=\"mergedrow\"><th class=\"infobox-label\" scope=\"row\"><div class=\"ib-country-fake-li\">• 2021 estimate</div></th><td class=\"infobox-data\"><img alt=\"Neutral increase\" data-file-height=\"346\" data-file-width=\"347\" decoding=\"async\" height=\"11\" src=\"//upload.wikimedia.org/wikipedia/commons/thumb/7/74/Increase_Neutral.svg/11px-Increase_Neutral.svg.png\" srcset=\"//upload.wikimedia.org/wikipedia/commons/thumb/7/74/Increase_Neutral.svg/17px-Increase_Neutral.svg.png 1.5x, //upload.wikimedia.org/wikipedia/commons/thumb/7/74/Increase_Neutral.svg/22px-Increase_Neutral.svg.png 2x\" title=\"Neutral increase\" width=\"11\"/> 19,082,467<sup class=\"reference\" id=\"cite_ref-8\"><a href=\"#cite_note-8\">[6]</a></sup> (<a href=\"/wiki/List_of_countries_and_dependencies_by_population\" title=\"List of countries and dependencies by population\">64th</a>)</td></tr><tr class=\"mergedbottomrow\"><th class=\"infobox-label\" scope=\"row\"><div class=\"ib-country-fake-li\">• Density</div></th><td class=\"infobox-data\">7/km<sup>2</sup> (18.1/sq mi) (<a href=\"/wiki/List_of_countries_and_dependencies_by_population_density\" title=\"List of countries and dependencies by population density\">236th</a>)</td></tr><tr class=\"mergedtoprow\"><th class=\"infobox-label\" scope=\"row\"><a href=\"/wiki/Gross_domestic_product\" title=\"Gross domestic product\">GDP</a> <style data-mw-deduplicate=\"TemplateStyles:r886047488\">.mw-parser-output .nobold{font-weight:normal}</style><span class=\"nobold\">(<a href=\"/wiki/Purchasing_power_parity\" title=\"Purchasing power parity\">PPP</a>)</span></th><td class=\"infobox-data\">2020 estimate</td></tr><tr class=\"mergedrow\"><th class=\"infobox-label\" scope=\"row\"><div class=\"ib-country-fake-li\">• Total</div></th><td class=\"infobox-data\"><img alt=\"Increase\" data-file-height=\"300\" data-file-width=\"300\" decoding=\"async\" height=\"11\" src=\"//upload.wikimedia.org/wikipedia/commons/thumb/b/b0/Increase2.svg/11px-Increase2.svg.png\" srcset=\"//upload.wikimedia.org/wikipedia/commons/thumb/b/b0/Increase2.svg/17px-Increase2.svg.png 1.5x, //upload.wikimedia.org/wikipedia/commons/thumb/b/b0/Increase2.svg/22px-Increase2.svg.png 2x\" title=\"Increase\" width=\"11\"/> $569.813 billion<sup class=\"reference\" id=\"cite_ref-IMF_9-0\"><a href=\"#cite_note-IMF-9\">[7]</a></sup> (<a href=\"/wiki/List_of_countries_by_GDP_(PPP)\" title=\"List of countries by GDP (PPP)\">41st</a>)</td></tr><tr class=\"mergedbottomrow\"><th class=\"infobox-label\" scope=\"row\"><div class=\"ib-country-fake-li\">• Per capita</div></th><td class=\"infobox-data\"><img alt=\"Increase\" data-file-height=\"300\" data-file-width=\"300\" decoding=\"async\" height=\"11\" src=\"//upload.wikimedia.org/wikipedia/commons/thumb/b/b0/Increase2.svg/11px-Increase2.svg.png\" srcset=\"//upload.wikimedia.org/wikipedia/commons/thumb/b/b0/Increase2.svg/17px-Increase2.svg.png 1.5x, //upload.wikimedia.org/wikipedia/commons/thumb/b/b0/Increase2.svg/22px-Increase2.svg.png 2x\" title=\"Increase\" width=\"11\"/> $30,178<sup class=\"reference\" id=\"cite_ref-IMF_9-1\"><a href=\"#cite_note-IMF-9\">[7]</a></sup> (<a href=\"/wiki/List_of_countries_by_GDP_(PPP)_per_capita\" title=\"List of countries by GDP (PPP) per capita\">53rd</a>)</td></tr><tr class=\"mergedtoprow\"><th class=\"infobox-label\" scope=\"row\"><a href=\"/wiki/Gross_domestic_product\" title=\"Gross domestic product\">GDP</a> <link href=\"mw-data:TemplateStyles:r886047488\" rel=\"mw-deduplicated-inline-style\"/><span class=\"nobold\">(nominal)</span></th><td class=\"infobox-data\">2020 estimate</td></tr><tr class=\"mergedrow\"><th class=\"infobox-label\" scope=\"row\"><div class=\"ib-country-fake-li\">• Total</div></th><td class=\"infobox-data\"><img alt=\"Increase\" data-file-height=\"300\" data-file-width=\"300\" decoding=\"async\" height=\"11\" src=\"//upload.wikimedia.org/wikipedia/commons/thumb/b/b0/Increase2.svg/11px-Increase2.svg.png\" srcset=\"//upload.wikimedia.org/wikipedia/commons/thumb/b/b0/Increase2.svg/17px-Increase2.svg.png 1.5x, //upload.wikimedia.org/wikipedia/commons/thumb/b/b0/Increase2.svg/22px-Increase2.svg.png 2x\" title=\"Increase\" width=\"11\"/> $179.332 billion<sup class=\"reference\" id=\"cite_ref-IMF_9-2\"><a href=\"#cite_note-IMF-9\">[7]</a></sup> (<a href=\"/wiki/List_of_countries_by_GDP_(nominal)\" title=\"List of countries by GDP (nominal)\">55th</a>)</td></tr><tr class=\"mergedbottomrow\"><th class=\"infobox-label\" scope=\"row\"><div class=\"ib-country-fake-li\">• Per capita</div></th><td class=\"infobox-data\"><img alt=\"Increase\" data-file-height=\"300\" data-file-width=\"300\" decoding=\"async\" height=\"11\" src=\"//upload.wikimedia.org/wikipedia/commons/thumb/b/b0/Increase2.svg/11px-Increase2.svg.png\" srcset=\"//upload.wikimedia.org/wikipedia/commons/thumb/b/b0/Increase2.svg/17px-Increase2.svg.png 1.5x, //upload.wikimedia.org/wikipedia/commons/thumb/b/b0/Increase2.svg/22px-Increase2.svg.png 2x\" title=\"Increase\" width=\"11\"/> $9,686<sup class=\"reference\" id=\"cite_ref-IMF_9-3\"><a href=\"#cite_note-IMF-9\">[7]</a></sup> (<a href=\"/wiki/List_of_countries_by_GDP_(nominal)_per_capita\" title=\"List of countries by GDP (nominal) per capita\">69th</a>)</td></tr><tr><th class=\"infobox-label\" scope=\"row\"><a href=\"/wiki/Gini_coefficient\" title=\"Gini coefficient\">Gini</a> <link href=\"mw-data:TemplateStyles:r886047488\" rel=\"mw-deduplicated-inline-style\"/><span class=\"nobold\">(2017)</span></th><td class=\"infobox-data\"><img alt=\"Negative increase\" data-file-height=\"300\" data-file-width=\"300\" decoding=\"async\" height=\"11\" src=\"//upload.wikimedia.org/wikipedia/commons/thumb/5/59/Increase_Negative.svg/11px-Increase_Negative.svg.png\" srcset=\"//upload.wikimedia.org/wikipedia/commons/thumb/5/59/Increase_Negative.svg/17px-Increase_Negative.svg.png 1.5x, //upload.wikimedia.org/wikipedia/commons/thumb/5/59/Increase_Negative.svg/22px-Increase_Negative.svg.png 2x\" title=\"Negative increase\" width=\"11\"/> 27.5<sup class=\"reference\" id=\"cite_ref-WB1_10-0\"><a href=\"#cite_note-WB1-10\">[8]</a></sup><br/><span class=\"nowrap\"><span style=\"color:forestgreen\">low</span></span></td></tr><tr><th class=\"infobox-label\" scope=\"row\"><a href=\"/wiki/Human_Development_Index\" title=\"Human Development Index\">HDI</a> <link href=\"mw-data:TemplateStyles:r886047488\" rel=\"mw-deduplicated-inline-style\"/><span class=\"nobold\">(2019)</span></th><td class=\"infobox-data\"><img alt=\"Increase\" data-file-height=\"300\" data-file-width=\"300\" decoding=\"async\" height=\"11\" src=\"//upload.wikimedia.org/wikipedia/commons/thumb/b/b0/Increase2.svg/11px-Increase2.svg.png\" srcset=\"//upload.wikimedia.org/wikipedia/commons/thumb/b/b0/Increase2.svg/17px-Increase2.svg.png 1.5x, //upload.wikimedia.org/wikipedia/commons/thumb/b/b0/Increase2.svg/22px-Increase2.svg.png 2x\" title=\"Increase\" width=\"11\"/> 0.825<sup class=\"reference\" id=\"cite_ref-UNHDR_11-0\"><a href=\"#cite_note-UNHDR-11\">[9]</a></sup><br/><span class=\"nowrap\"><span style=\"color:darkgreen\">very high</span></span> · <a href=\"/wiki/List_of_countries_by_Human_Development_Index\" title=\"List of countries by Human Development Index\">51st</a></td></tr><tr><th class=\"infobox-label\" scope=\"row\">Currency</th><td class=\"infobox-data\"><a href=\"/wiki/Kazakhstani_tenge\" title=\"Kazakhstani tenge\">Tenge</a> (₸) (<a href=\"/wiki/ISO_4217\" title=\"ISO 4217\">KZT</a>)</td></tr><tr><th class=\"infobox-label\" scope=\"row\">Time zone</th><td class=\"infobox-data\"><span class=\"nowrap\"><a href=\"/wiki/Coordinated_Universal_Time\" title=\"Coordinated Universal Time\">UTC</a><a href=\"/wiki/UTC%2B05:00\" title=\"UTC+05:00\">+5</a> / <a href=\"/wiki/UTC%2B06:00\" title=\"UTC+06:00\">+6</a></span> (<a href=\"/wiki/Time_in_Kazakhstan\" title=\"Time in Kazakhstan\">West / East</a>)</td></tr><tr><th class=\"infobox-label\" scope=\"row\">Date format</th><td class=\"infobox-data\">yyyy.dd.mm<sup class=\"reference\" id=\"cite_ref-12\"><a href=\"#cite_note-12\">[c]</a></sup></td></tr><tr><th class=\"infobox-label\" scope=\"row\"><a href=\"/wiki/Left-_and_right-hand_traffic\" title=\"Left- and right-hand traffic\">Driving side</a></th><td class=\"infobox-data\">right</td></tr><tr><th class=\"infobox-label\" scope=\"row\"><a href=\"/wiki/Telephone_numbers_in_Kazakhstan\" title=\"Telephone numbers in Kazakhstan\">Calling code</a></th><td class=\"infobox-data\">+7-6xx, +7-7xx</td></tr><tr><th class=\"infobox-label\" scope=\"row\"><a href=\"/wiki/ISO_3166\" title=\"ISO 3166\">ISO 3166 code</a></th><td class=\"infobox-data\"><a href=\"/wiki/ISO_3166-2:KZ\" title=\"ISO 3166-2:KZ\">KZ</a></td></tr><tr><th class=\"infobox-label\" scope=\"row\"><a href=\"/wiki/Country_code_top-level_domain\" title=\"Country code top-level domain\">Internet TLD</a></th><td class=\"infobox-data\"><div class=\"plainlist\"><ul><li><a href=\"/wiki/.kz\" title=\".kz\">.kz</a></li><li><a href=\"/wiki/.%D2%9B%D0%B0%D0%B7\" title=\".қаз\">.қаз</a></li></ul></div></td></tr></tbody>"
      ]
     },
     "execution_count": 8,
     "metadata": {},
     "output_type": "execute_result"
    }
   ],
   "source": [
    "page = requests.get( \"https://en.wikipedia.org/wiki/Kazakhstan\" ).text\n",
    "\n",
    "soup = BeautifulSoup( page, \"html.parser\" )\n",
    "\n",
    "table = soup.find( name = \"table\", class_ = \"infobox ib-country vcard\" )\n",
    "body = table.tbody\n",
    "body"
   ]
  },
  {
   "cell_type": "code",
   "execution_count": 9,
   "id": "179286d7",
   "metadata": {},
   "outputs": [],
   "source": [
    "table_rows = []\n",
    "for row in body:\n",
    "    table_rows.append( row )"
   ]
  },
  {
   "cell_type": "code",
   "execution_count": 10,
   "id": "76d560c3",
   "metadata": {},
   "outputs": [],
   "source": [
    "ethnic_groups = table_rows[9].find( \"td\" )\n",
    "\n",
    "population = []\n",
    "group = []\n",
    "\n",
    "for g in ethnic_groups.div.ul:\n",
    "    population.append( g.text.split( ' ' )[0] )\n",
    "    group.append( g.a.text )"
   ]
  },
  {
   "cell_type": "code",
   "execution_count": 11,
   "id": "60b3a995",
   "metadata": {},
   "outputs": [
    {
     "name": "stdout",
     "output_type": "stream",
     "text": [
      "Kazakh - 68.5%\n",
      "Russian - 18.9%\n",
      "Uzbek - 3.3%\n",
      "Uyghur - 1.5%\n",
      "Ukrainian - 1.4%\n",
      "Tatar - 1.1%\n",
      "German - 1.0%\n",
      "Others - 4.5%\n"
     ]
    }
   ],
   "source": [
    "for g, p in zip( group, population ):\n",
    "    print( g, \"-\", p )"
   ]
  },
  {
   "cell_type": "markdown",
   "id": "fded9387",
   "metadata": {},
   "source": [
    "### Getting the largest cities in Kazakhstan from Wikipedia"
   ]
  },
  {
   "cell_type": "markdown",
   "id": "417f47ad",
   "metadata": {},
   "source": [
    "#### This is the table that I want to get using the BeautifulSoup"
   ]
  },
  {
   "cell_type": "code",
   "execution_count": 12,
   "id": "70295936",
   "metadata": {
    "scrolled": false
   },
   "outputs": [
    {
     "data": {
      "text/html": [
       "<div>\n",
       "<style scoped>\n",
       "    .dataframe tbody tr th:only-of-type {\n",
       "        vertical-align: middle;\n",
       "    }\n",
       "\n",
       "    .dataframe tbody tr th {\n",
       "        vertical-align: top;\n",
       "    }\n",
       "\n",
       "    .dataframe thead th {\n",
       "        text-align: right;\n",
       "    }\n",
       "</style>\n",
       "<table border=\"1\" class=\"dataframe\">\n",
       "  <thead>\n",
       "    <tr style=\"text-align: right;\">\n",
       "      <th></th>\n",
       "      <th>Name</th>\n",
       "      <th>Region</th>\n",
       "      <th>Pop.</th>\n",
       "    </tr>\n",
       "    <tr>\n",
       "      <th>Rank</th>\n",
       "      <th></th>\n",
       "      <th></th>\n",
       "      <th></th>\n",
       "    </tr>\n",
       "  </thead>\n",
       "  <tbody>\n",
       "    <tr>\n",
       "      <th>1</th>\n",
       "      <td>Almaty</td>\n",
       "      <td>Almaty</td>\n",
       "      <td>1854656.0</td>\n",
       "    </tr>\n",
       "    <tr>\n",
       "      <th>2</th>\n",
       "      <td>Nur-Sultan</td>\n",
       "      <td>Nur-Sultan</td>\n",
       "      <td>1078384.0</td>\n",
       "    </tr>\n",
       "    <tr>\n",
       "      <th>3</th>\n",
       "      <td>Shymkent</td>\n",
       "      <td>Turkistan</td>\n",
       "      <td>1009086.0</td>\n",
       "    </tr>\n",
       "    <tr>\n",
       "      <th>4</th>\n",
       "      <td>Karaganda</td>\n",
       "      <td>Karagandy</td>\n",
       "      <td>497712.0</td>\n",
       "    </tr>\n",
       "    <tr>\n",
       "      <th>5</th>\n",
       "      <td>Aktobe</td>\n",
       "      <td>Aktobe</td>\n",
       "      <td>487994.0</td>\n",
       "    </tr>\n",
       "    <tr>\n",
       "      <th>6</th>\n",
       "      <td>Taraz</td>\n",
       "      <td>Jambyl</td>\n",
       "      <td>357791.0</td>\n",
       "    </tr>\n",
       "    <tr>\n",
       "      <th>7</th>\n",
       "      <td>Pavlodar</td>\n",
       "      <td>Pavlodar</td>\n",
       "      <td>333989.0</td>\n",
       "    </tr>\n",
       "    <tr>\n",
       "      <th>8</th>\n",
       "      <td>Oskemen</td>\n",
       "      <td>East Kazakhstan</td>\n",
       "      <td>331614.0</td>\n",
       "    </tr>\n",
       "    <tr>\n",
       "      <th>9</th>\n",
       "      <td>Semey</td>\n",
       "      <td>East Kazakhstan</td>\n",
       "      <td>323138.0</td>\n",
       "    </tr>\n",
       "    <tr>\n",
       "      <th>10</th>\n",
       "      <td>Atyrau</td>\n",
       "      <td>Atyrau</td>\n",
       "      <td>269720.0</td>\n",
       "    </tr>\n",
       "  </tbody>\n",
       "</table>\n",
       "</div>"
      ],
      "text/plain": [
       "            Name           Region       Pop.\n",
       "Rank                                        \n",
       "1         Almaty           Almaty  1854656.0\n",
       "2     Nur-Sultan       Nur-Sultan  1078384.0\n",
       "3       Shymkent        Turkistan  1009086.0\n",
       "4      Karaganda        Karagandy   497712.0\n",
       "5         Aktobe           Aktobe   487994.0\n",
       "6          Taraz           Jambyl   357791.0\n",
       "7       Pavlodar         Pavlodar   333989.0\n",
       "8        Oskemen  East Kazakhstan   331614.0\n",
       "9          Semey  East Kazakhstan   323138.0\n",
       "10        Atyrau           Atyrau   269720.0"
      ]
     },
     "execution_count": 12,
     "metadata": {},
     "output_type": "execute_result"
    }
   ],
   "source": [
    "import pandas as pd\n",
    "\n",
    "df = pd.read_html( \"https://en.wikipedia.org/wiki/Kazakhstan\",\n",
    "                   attrs = { \"style\" : \"font-size:88%;margin-left: auto; margin-right: auto; width: 100%; border: 1px solid darkgray; background: #f9f9f9\" },\n",
    "                   header = 1 )[0]\n",
    "\n",
    "df = df[[\"Rank\", \"Name\", \"Region\", \"Pop.\"]]\n",
    "df.set_index( \"Rank\", inplace = True )\n",
    "df.dropna( axis = 0, inplace = True )\n",
    "df"
   ]
  },
  {
   "cell_type": "code",
   "execution_count": 13,
   "id": "32f10d33",
   "metadata": {},
   "outputs": [
    {
     "data": {
      "text/plain": [
       "<tbody><tr>\n",
       "<th colspan=\"10\" style=\"padding:0.3em 0.75em;\"><div style=\"float:right; width:6em; height:2.6em\"> </div><div style=\"float:left; width:6em; height:2.6em\"> </div> <div style=\"height:2.6em;line-height:1.3em;\"><span style=\"font-size:110%;\">Largest cities or towns in Kazakhstan</span><br/><div style=\"display:inline;font-weight:normal;\"><a class=\"external autonumber\" href=\"http://stat.gov.kz/api/getFile/?docId=ESTAT305821\" rel=\"nofollow\">[1]</a></div></div>\n",
       "</th></tr>\n",
       "<tr>\n",
       "<th></th>\n",
       "<th>Rank\n",
       "</th>\n",
       "<th><a href=\"/wiki/List_of_cities_in_Kazakhstan\" title=\"List of cities in Kazakhstan\">Name</a>\n",
       "</th>\n",
       "<th><a href=\"/wiki/Regions_of_Kazakhstan\" title=\"Regions of Kazakhstan\">Region</a>\n",
       "</th>\n",
       "<th>Pop.\n",
       "</th>\n",
       "<th>\n",
       "</th></tr>\n",
       "<tr>\n",
       "<td rowspan=\"11\" style=\"text-align: center\"><a class=\"image\" href=\"/wiki/File:View_of_Almaty_from_the_hills.png\" title=\"Almaty\"><img alt=\"Almaty\" class=\"thumbborder\" data-file-height=\"652\" data-file-width=\"1546\" decoding=\"async\" height=\"51\" src=\"//upload.wikimedia.org/wikipedia/commons/thumb/1/1d/View_of_Almaty_from_the_hills.png/120px-View_of_Almaty_from_the_hills.png\" srcset=\"//upload.wikimedia.org/wikipedia/commons/thumb/1/1d/View_of_Almaty_from_the_hills.png/180px-View_of_Almaty_from_the_hills.png 1.5x, //upload.wikimedia.org/wikipedia/commons/thumb/1/1d/View_of_Almaty_from_the_hills.png/240px-View_of_Almaty_from_the_hills.png 2x\" width=\"120\"/></a><br/><a href=\"/wiki/Almaty\" title=\"Almaty\">Almaty</a><br/><a class=\"image\" href=\"/wiki/File:Astana_020000,_Kazakhstan_-_panoramio_(15).jpg\" title=\"Nur-Sultan\"><img alt=\"Nur-Sultan\" class=\"thumbborder\" data-file-height=\"2048\" data-file-width=\"3072\" decoding=\"async\" height=\"80\" src=\"//upload.wikimedia.org/wikipedia/commons/thumb/3/34/Astana_020000%2C_Kazakhstan_-_panoramio_%2815%29.jpg/120px-Astana_020000%2C_Kazakhstan_-_panoramio_%2815%29.jpg\" srcset=\"//upload.wikimedia.org/wikipedia/commons/thumb/3/34/Astana_020000%2C_Kazakhstan_-_panoramio_%2815%29.jpg/180px-Astana_020000%2C_Kazakhstan_-_panoramio_%2815%29.jpg 1.5x, //upload.wikimedia.org/wikipedia/commons/thumb/3/34/Astana_020000%2C_Kazakhstan_-_panoramio_%2815%29.jpg/240px-Astana_020000%2C_Kazakhstan_-_panoramio_%2815%29.jpg 2x\" width=\"120\"/></a><br/><a href=\"/wiki/Nur-Sultan\" title=\"Nur-Sultan\">Nur-Sultan</a>\n",
       "</td>\n",
       "<td style=\"text-align:center;background:#f0f0f0;\">1</td>\n",
       "<td style=\"text-align:left;\"><a href=\"/wiki/Almaty\" title=\"Almaty\">Almaty</a></td>\n",
       "<td style=\"text-align:left;\"><a href=\"/wiki/Almaty\" title=\"Almaty\">Almaty</a></td>\n",
       "<td style=\"text-align:right;\">1,854,656\n",
       "</td>\n",
       "<td rowspan=\"11\" style=\"text-align: center\"><a class=\"image\" href=\"/wiki/File:Unnamed_Road,_Kazakhstan_-_panoramio_(44).jpg\" title=\"Shymkent\"><img alt=\"Shymkent\" class=\"thumbborder\" data-file-height=\"4000\" data-file-width=\"6000\" decoding=\"async\" height=\"80\" src=\"//upload.wikimedia.org/wikipedia/commons/thumb/7/71/Unnamed_Road%2C_Kazakhstan_-_panoramio_%2844%29.jpg/120px-Unnamed_Road%2C_Kazakhstan_-_panoramio_%2844%29.jpg\" srcset=\"//upload.wikimedia.org/wikipedia/commons/thumb/7/71/Unnamed_Road%2C_Kazakhstan_-_panoramio_%2844%29.jpg/180px-Unnamed_Road%2C_Kazakhstan_-_panoramio_%2844%29.jpg 1.5x, //upload.wikimedia.org/wikipedia/commons/thumb/7/71/Unnamed_Road%2C_Kazakhstan_-_panoramio_%2844%29.jpg/240px-Unnamed_Road%2C_Kazakhstan_-_panoramio_%2844%29.jpg 2x\" width=\"120\"/></a><br/><a href=\"/wiki/Shymkent\" title=\"Shymkent\">Shymkent</a><br/><a class=\"image\" href=\"/wiki/File:Qaraghandy,_Kazakhstan.jpg\" title=\"Karaganda\"><img alt=\"Karaganda\" class=\"thumbborder\" data-file-height=\"1536\" data-file-width=\"2048\" decoding=\"async\" height=\"90\" src=\"//upload.wikimedia.org/wikipedia/commons/thumb/3/3e/Qaraghandy%2C_Kazakhstan.jpg/120px-Qaraghandy%2C_Kazakhstan.jpg\" srcset=\"//upload.wikimedia.org/wikipedia/commons/thumb/3/3e/Qaraghandy%2C_Kazakhstan.jpg/180px-Qaraghandy%2C_Kazakhstan.jpg 1.5x, //upload.wikimedia.org/wikipedia/commons/thumb/3/3e/Qaraghandy%2C_Kazakhstan.jpg/240px-Qaraghandy%2C_Kazakhstan.jpg 2x\" width=\"120\"/></a><br/><a href=\"/wiki/Karaganda\" title=\"Karaganda\">Karaganda</a>\n",
       "</td></tr>\n",
       "<tr>\n",
       "<td style=\"text-align:center;background:#f0f0f0;\">2</td>\n",
       "<td style=\"text-align:left;\"><a href=\"/wiki/Nur-Sultan\" title=\"Nur-Sultan\">Nur-Sultan</a></td>\n",
       "<td style=\"text-align:left;\"><a href=\"/wiki/Nur-Sultan\" title=\"Nur-Sultan\">Nur-Sultan</a></td>\n",
       "<td style=\"text-align:right;\">1,078,384\n",
       "</td></tr>\n",
       "<tr>\n",
       "<td style=\"text-align:center;background:#f0f0f0;\">3</td>\n",
       "<td style=\"text-align:left;\"><a href=\"/wiki/Shymkent\" title=\"Shymkent\">Shymkent</a></td>\n",
       "<td style=\"text-align:left;\"><a href=\"/wiki/Turkistan_Region\" title=\"Turkistan Region\">Turkistan</a></td>\n",
       "<td style=\"text-align:right;\">1,009,086\n",
       "</td></tr>\n",
       "<tr>\n",
       "<td style=\"text-align:center;background:#f0f0f0;\">4</td>\n",
       "<td style=\"text-align:left;\"><a href=\"/wiki/Karaganda\" title=\"Karaganda\">Karaganda</a></td>\n",
       "<td style=\"text-align:left;\"><a class=\"mw-redirect\" href=\"/wiki/Karagandy_Region\" title=\"Karagandy Region\">Karagandy</a></td>\n",
       "<td style=\"text-align:right;\">497,712\n",
       "</td></tr>\n",
       "<tr>\n",
       "<td style=\"text-align:center;background:#f0f0f0;\">5</td>\n",
       "<td style=\"text-align:left;\"><a href=\"/wiki/Aktobe\" title=\"Aktobe\">Aktobe</a></td>\n",
       "<td style=\"text-align:left;\"><a href=\"/wiki/Aktobe_Region\" title=\"Aktobe Region\">Aktobe</a></td>\n",
       "<td style=\"text-align:right;\">487,994\n",
       "</td></tr>\n",
       "<tr>\n",
       "<td style=\"text-align:center;background:#f0f0f0;\">6</td>\n",
       "<td style=\"text-align:left;\"><a href=\"/wiki/Taraz\" title=\"Taraz\">Taraz</a></td>\n",
       "<td style=\"text-align:left;\"><a href=\"/wiki/Jambyl_Region\" title=\"Jambyl Region\">Jambyl</a></td>\n",
       "<td style=\"text-align:right;\">357,791\n",
       "</td></tr>\n",
       "<tr>\n",
       "<td style=\"text-align:center;background:#f0f0f0;\">7</td>\n",
       "<td style=\"text-align:left;\"><a href=\"/wiki/Pavlodar\" title=\"Pavlodar\">Pavlodar</a></td>\n",
       "<td style=\"text-align:left;\"><a href=\"/wiki/Pavlodar_Region\" title=\"Pavlodar Region\">Pavlodar</a></td>\n",
       "<td style=\"text-align:right;\">333,989\n",
       "</td></tr>\n",
       "<tr>\n",
       "<td style=\"text-align:center;background:#f0f0f0;\">8</td>\n",
       "<td style=\"text-align:left;\"><a href=\"/wiki/Oskemen\" title=\"Oskemen\">Oskemen</a></td>\n",
       "<td style=\"text-align:left;\"><a href=\"/wiki/East_Kazakhstan_Region\" title=\"East Kazakhstan Region\">East Kazakhstan</a></td>\n",
       "<td style=\"text-align:right;\">331,614\n",
       "</td></tr>\n",
       "<tr>\n",
       "<td style=\"text-align:center;background:#f0f0f0;\">9</td>\n",
       "<td style=\"text-align:left;\"><a href=\"/wiki/Semey\" title=\"Semey\">Semey</a></td>\n",
       "<td style=\"text-align:left;\"><a href=\"/wiki/East_Kazakhstan_Region\" title=\"East Kazakhstan Region\">East Kazakhstan</a></td>\n",
       "<td style=\"text-align:right;\">323,138\n",
       "</td></tr>\n",
       "<tr>\n",
       "<td style=\"text-align:center;background:#f0f0f0;\">10</td>\n",
       "<td style=\"text-align:left;\"><a href=\"/wiki/Atyrau\" title=\"Atyrau\">Atyrau</a></td>\n",
       "<td style=\"text-align:left;\"><a href=\"/wiki/Atyrau_Region\" title=\"Atyrau Region\">Atyrau</a></td>\n",
       "<td style=\"text-align:right;\">269,720\n",
       "</td></tr>\n",
       "</tbody>"
      ]
     },
     "execution_count": 13,
     "metadata": {},
     "output_type": "execute_result"
    }
   ],
   "source": [
    "page = requests.get( \"https://en.wikipedia.org/wiki/Kazakhstan\" ).text\n",
    "\n",
    "soup = BeautifulSoup( page, \"html.parser\" )\n",
    "\n",
    "table = soup.find( name = \"table\", attrs = { \"style\" : \"font-size:88%;margin-left: auto; margin-right: auto; width: 100%; border: 1px solid darkgray; background: #f9f9f9\" } )\n",
    "table = table.tbody\n",
    "table"
   ]
  },
  {
   "cell_type": "code",
   "execution_count": 14,
   "id": "70f5a19d",
   "metadata": {
    "scrolled": true
   },
   "outputs": [
    {
     "data": {
      "text/plain": [
       "[<tr>\n",
       " <th colspan=\"10\" style=\"padding:0.3em 0.75em;\"><div style=\"float:right; width:6em; height:2.6em\"> </div><div style=\"float:left; width:6em; height:2.6em\"> </div> <div style=\"height:2.6em;line-height:1.3em;\"><span style=\"font-size:110%;\">Largest cities or towns in Kazakhstan</span><br/><div style=\"display:inline;font-weight:normal;\"><a class=\"external autonumber\" href=\"http://stat.gov.kz/api/getFile/?docId=ESTAT305821\" rel=\"nofollow\">[1]</a></div></div>\n",
       " </th></tr>,\n",
       " <tr>\n",
       " <th></th>\n",
       " <th>Rank\n",
       " </th>\n",
       " <th><a href=\"/wiki/List_of_cities_in_Kazakhstan\" title=\"List of cities in Kazakhstan\">Name</a>\n",
       " </th>\n",
       " <th><a href=\"/wiki/Regions_of_Kazakhstan\" title=\"Regions of Kazakhstan\">Region</a>\n",
       " </th>\n",
       " <th>Pop.\n",
       " </th>\n",
       " <th>\n",
       " </th></tr>,\n",
       " <tr>\n",
       " <td rowspan=\"11\" style=\"text-align: center\"><a class=\"image\" href=\"/wiki/File:View_of_Almaty_from_the_hills.png\" title=\"Almaty\"><img alt=\"Almaty\" class=\"thumbborder\" data-file-height=\"652\" data-file-width=\"1546\" decoding=\"async\" height=\"51\" src=\"//upload.wikimedia.org/wikipedia/commons/thumb/1/1d/View_of_Almaty_from_the_hills.png/120px-View_of_Almaty_from_the_hills.png\" srcset=\"//upload.wikimedia.org/wikipedia/commons/thumb/1/1d/View_of_Almaty_from_the_hills.png/180px-View_of_Almaty_from_the_hills.png 1.5x, //upload.wikimedia.org/wikipedia/commons/thumb/1/1d/View_of_Almaty_from_the_hills.png/240px-View_of_Almaty_from_the_hills.png 2x\" width=\"120\"/></a><br/><a href=\"/wiki/Almaty\" title=\"Almaty\">Almaty</a><br/><a class=\"image\" href=\"/wiki/File:Astana_020000,_Kazakhstan_-_panoramio_(15).jpg\" title=\"Nur-Sultan\"><img alt=\"Nur-Sultan\" class=\"thumbborder\" data-file-height=\"2048\" data-file-width=\"3072\" decoding=\"async\" height=\"80\" src=\"//upload.wikimedia.org/wikipedia/commons/thumb/3/34/Astana_020000%2C_Kazakhstan_-_panoramio_%2815%29.jpg/120px-Astana_020000%2C_Kazakhstan_-_panoramio_%2815%29.jpg\" srcset=\"//upload.wikimedia.org/wikipedia/commons/thumb/3/34/Astana_020000%2C_Kazakhstan_-_panoramio_%2815%29.jpg/180px-Astana_020000%2C_Kazakhstan_-_panoramio_%2815%29.jpg 1.5x, //upload.wikimedia.org/wikipedia/commons/thumb/3/34/Astana_020000%2C_Kazakhstan_-_panoramio_%2815%29.jpg/240px-Astana_020000%2C_Kazakhstan_-_panoramio_%2815%29.jpg 2x\" width=\"120\"/></a><br/><a href=\"/wiki/Nur-Sultan\" title=\"Nur-Sultan\">Nur-Sultan</a>\n",
       " </td>\n",
       " <td style=\"text-align:center;background:#f0f0f0;\">1</td>\n",
       " <td style=\"text-align:left;\"><a href=\"/wiki/Almaty\" title=\"Almaty\">Almaty</a></td>\n",
       " <td style=\"text-align:left;\"><a href=\"/wiki/Almaty\" title=\"Almaty\">Almaty</a></td>\n",
       " <td style=\"text-align:right;\">1,854,656\n",
       " </td>\n",
       " <td rowspan=\"11\" style=\"text-align: center\"><a class=\"image\" href=\"/wiki/File:Unnamed_Road,_Kazakhstan_-_panoramio_(44).jpg\" title=\"Shymkent\"><img alt=\"Shymkent\" class=\"thumbborder\" data-file-height=\"4000\" data-file-width=\"6000\" decoding=\"async\" height=\"80\" src=\"//upload.wikimedia.org/wikipedia/commons/thumb/7/71/Unnamed_Road%2C_Kazakhstan_-_panoramio_%2844%29.jpg/120px-Unnamed_Road%2C_Kazakhstan_-_panoramio_%2844%29.jpg\" srcset=\"//upload.wikimedia.org/wikipedia/commons/thumb/7/71/Unnamed_Road%2C_Kazakhstan_-_panoramio_%2844%29.jpg/180px-Unnamed_Road%2C_Kazakhstan_-_panoramio_%2844%29.jpg 1.5x, //upload.wikimedia.org/wikipedia/commons/thumb/7/71/Unnamed_Road%2C_Kazakhstan_-_panoramio_%2844%29.jpg/240px-Unnamed_Road%2C_Kazakhstan_-_panoramio_%2844%29.jpg 2x\" width=\"120\"/></a><br/><a href=\"/wiki/Shymkent\" title=\"Shymkent\">Shymkent</a><br/><a class=\"image\" href=\"/wiki/File:Qaraghandy,_Kazakhstan.jpg\" title=\"Karaganda\"><img alt=\"Karaganda\" class=\"thumbborder\" data-file-height=\"1536\" data-file-width=\"2048\" decoding=\"async\" height=\"90\" src=\"//upload.wikimedia.org/wikipedia/commons/thumb/3/3e/Qaraghandy%2C_Kazakhstan.jpg/120px-Qaraghandy%2C_Kazakhstan.jpg\" srcset=\"//upload.wikimedia.org/wikipedia/commons/thumb/3/3e/Qaraghandy%2C_Kazakhstan.jpg/180px-Qaraghandy%2C_Kazakhstan.jpg 1.5x, //upload.wikimedia.org/wikipedia/commons/thumb/3/3e/Qaraghandy%2C_Kazakhstan.jpg/240px-Qaraghandy%2C_Kazakhstan.jpg 2x\" width=\"120\"/></a><br/><a href=\"/wiki/Karaganda\" title=\"Karaganda\">Karaganda</a>\n",
       " </td></tr>,\n",
       " <tr>\n",
       " <td style=\"text-align:center;background:#f0f0f0;\">2</td>\n",
       " <td style=\"text-align:left;\"><a href=\"/wiki/Nur-Sultan\" title=\"Nur-Sultan\">Nur-Sultan</a></td>\n",
       " <td style=\"text-align:left;\"><a href=\"/wiki/Nur-Sultan\" title=\"Nur-Sultan\">Nur-Sultan</a></td>\n",
       " <td style=\"text-align:right;\">1,078,384\n",
       " </td></tr>,\n",
       " <tr>\n",
       " <td style=\"text-align:center;background:#f0f0f0;\">3</td>\n",
       " <td style=\"text-align:left;\"><a href=\"/wiki/Shymkent\" title=\"Shymkent\">Shymkent</a></td>\n",
       " <td style=\"text-align:left;\"><a href=\"/wiki/Turkistan_Region\" title=\"Turkistan Region\">Turkistan</a></td>\n",
       " <td style=\"text-align:right;\">1,009,086\n",
       " </td></tr>,\n",
       " <tr>\n",
       " <td style=\"text-align:center;background:#f0f0f0;\">4</td>\n",
       " <td style=\"text-align:left;\"><a href=\"/wiki/Karaganda\" title=\"Karaganda\">Karaganda</a></td>\n",
       " <td style=\"text-align:left;\"><a class=\"mw-redirect\" href=\"/wiki/Karagandy_Region\" title=\"Karagandy Region\">Karagandy</a></td>\n",
       " <td style=\"text-align:right;\">497,712\n",
       " </td></tr>,\n",
       " <tr>\n",
       " <td style=\"text-align:center;background:#f0f0f0;\">5</td>\n",
       " <td style=\"text-align:left;\"><a href=\"/wiki/Aktobe\" title=\"Aktobe\">Aktobe</a></td>\n",
       " <td style=\"text-align:left;\"><a href=\"/wiki/Aktobe_Region\" title=\"Aktobe Region\">Aktobe</a></td>\n",
       " <td style=\"text-align:right;\">487,994\n",
       " </td></tr>,\n",
       " <tr>\n",
       " <td style=\"text-align:center;background:#f0f0f0;\">6</td>\n",
       " <td style=\"text-align:left;\"><a href=\"/wiki/Taraz\" title=\"Taraz\">Taraz</a></td>\n",
       " <td style=\"text-align:left;\"><a href=\"/wiki/Jambyl_Region\" title=\"Jambyl Region\">Jambyl</a></td>\n",
       " <td style=\"text-align:right;\">357,791\n",
       " </td></tr>,\n",
       " <tr>\n",
       " <td style=\"text-align:center;background:#f0f0f0;\">7</td>\n",
       " <td style=\"text-align:left;\"><a href=\"/wiki/Pavlodar\" title=\"Pavlodar\">Pavlodar</a></td>\n",
       " <td style=\"text-align:left;\"><a href=\"/wiki/Pavlodar_Region\" title=\"Pavlodar Region\">Pavlodar</a></td>\n",
       " <td style=\"text-align:right;\">333,989\n",
       " </td></tr>,\n",
       " <tr>\n",
       " <td style=\"text-align:center;background:#f0f0f0;\">8</td>\n",
       " <td style=\"text-align:left;\"><a href=\"/wiki/Oskemen\" title=\"Oskemen\">Oskemen</a></td>\n",
       " <td style=\"text-align:left;\"><a href=\"/wiki/East_Kazakhstan_Region\" title=\"East Kazakhstan Region\">East Kazakhstan</a></td>\n",
       " <td style=\"text-align:right;\">331,614\n",
       " </td></tr>,\n",
       " <tr>\n",
       " <td style=\"text-align:center;background:#f0f0f0;\">9</td>\n",
       " <td style=\"text-align:left;\"><a href=\"/wiki/Semey\" title=\"Semey\">Semey</a></td>\n",
       " <td style=\"text-align:left;\"><a href=\"/wiki/East_Kazakhstan_Region\" title=\"East Kazakhstan Region\">East Kazakhstan</a></td>\n",
       " <td style=\"text-align:right;\">323,138\n",
       " </td></tr>,\n",
       " <tr>\n",
       " <td style=\"text-align:center;background:#f0f0f0;\">10</td>\n",
       " <td style=\"text-align:left;\"><a href=\"/wiki/Atyrau\" title=\"Atyrau\">Atyrau</a></td>\n",
       " <td style=\"text-align:left;\"><a href=\"/wiki/Atyrau_Region\" title=\"Atyrau Region\">Atyrau</a></td>\n",
       " <td style=\"text-align:right;\">269,720\n",
       " </td></tr>]"
      ]
     },
     "execution_count": 14,
     "metadata": {},
     "output_type": "execute_result"
    }
   ],
   "source": [
    "table.find_all( \"tr\" )"
   ]
  },
  {
   "cell_type": "code",
   "execution_count": 15,
   "id": "dc9a45b3",
   "metadata": {
    "scrolled": true
   },
   "outputs": [
    {
     "data": {
      "text/plain": [
       "[<tr>\n",
       " <td rowspan=\"11\" style=\"text-align: center\"><a class=\"image\" href=\"/wiki/File:View_of_Almaty_from_the_hills.png\" title=\"Almaty\"><img alt=\"Almaty\" class=\"thumbborder\" data-file-height=\"652\" data-file-width=\"1546\" decoding=\"async\" height=\"51\" src=\"//upload.wikimedia.org/wikipedia/commons/thumb/1/1d/View_of_Almaty_from_the_hills.png/120px-View_of_Almaty_from_the_hills.png\" srcset=\"//upload.wikimedia.org/wikipedia/commons/thumb/1/1d/View_of_Almaty_from_the_hills.png/180px-View_of_Almaty_from_the_hills.png 1.5x, //upload.wikimedia.org/wikipedia/commons/thumb/1/1d/View_of_Almaty_from_the_hills.png/240px-View_of_Almaty_from_the_hills.png 2x\" width=\"120\"/></a><br/><a href=\"/wiki/Almaty\" title=\"Almaty\">Almaty</a><br/><a class=\"image\" href=\"/wiki/File:Astana_020000,_Kazakhstan_-_panoramio_(15).jpg\" title=\"Nur-Sultan\"><img alt=\"Nur-Sultan\" class=\"thumbborder\" data-file-height=\"2048\" data-file-width=\"3072\" decoding=\"async\" height=\"80\" src=\"//upload.wikimedia.org/wikipedia/commons/thumb/3/34/Astana_020000%2C_Kazakhstan_-_panoramio_%2815%29.jpg/120px-Astana_020000%2C_Kazakhstan_-_panoramio_%2815%29.jpg\" srcset=\"//upload.wikimedia.org/wikipedia/commons/thumb/3/34/Astana_020000%2C_Kazakhstan_-_panoramio_%2815%29.jpg/180px-Astana_020000%2C_Kazakhstan_-_panoramio_%2815%29.jpg 1.5x, //upload.wikimedia.org/wikipedia/commons/thumb/3/34/Astana_020000%2C_Kazakhstan_-_panoramio_%2815%29.jpg/240px-Astana_020000%2C_Kazakhstan_-_panoramio_%2815%29.jpg 2x\" width=\"120\"/></a><br/><a href=\"/wiki/Nur-Sultan\" title=\"Nur-Sultan\">Nur-Sultan</a>\n",
       " </td>\n",
       " <td style=\"text-align:center;background:#f0f0f0;\">1</td>\n",
       " <td style=\"text-align:left;\"><a href=\"/wiki/Almaty\" title=\"Almaty\">Almaty</a></td>\n",
       " <td style=\"text-align:left;\"><a href=\"/wiki/Almaty\" title=\"Almaty\">Almaty</a></td>\n",
       " <td style=\"text-align:right;\">1,854,656\n",
       " </td>\n",
       " <td rowspan=\"11\" style=\"text-align: center\"><a class=\"image\" href=\"/wiki/File:Unnamed_Road,_Kazakhstan_-_panoramio_(44).jpg\" title=\"Shymkent\"><img alt=\"Shymkent\" class=\"thumbborder\" data-file-height=\"4000\" data-file-width=\"6000\" decoding=\"async\" height=\"80\" src=\"//upload.wikimedia.org/wikipedia/commons/thumb/7/71/Unnamed_Road%2C_Kazakhstan_-_panoramio_%2844%29.jpg/120px-Unnamed_Road%2C_Kazakhstan_-_panoramio_%2844%29.jpg\" srcset=\"//upload.wikimedia.org/wikipedia/commons/thumb/7/71/Unnamed_Road%2C_Kazakhstan_-_panoramio_%2844%29.jpg/180px-Unnamed_Road%2C_Kazakhstan_-_panoramio_%2844%29.jpg 1.5x, //upload.wikimedia.org/wikipedia/commons/thumb/7/71/Unnamed_Road%2C_Kazakhstan_-_panoramio_%2844%29.jpg/240px-Unnamed_Road%2C_Kazakhstan_-_panoramio_%2844%29.jpg 2x\" width=\"120\"/></a><br/><a href=\"/wiki/Shymkent\" title=\"Shymkent\">Shymkent</a><br/><a class=\"image\" href=\"/wiki/File:Qaraghandy,_Kazakhstan.jpg\" title=\"Karaganda\"><img alt=\"Karaganda\" class=\"thumbborder\" data-file-height=\"1536\" data-file-width=\"2048\" decoding=\"async\" height=\"90\" src=\"//upload.wikimedia.org/wikipedia/commons/thumb/3/3e/Qaraghandy%2C_Kazakhstan.jpg/120px-Qaraghandy%2C_Kazakhstan.jpg\" srcset=\"//upload.wikimedia.org/wikipedia/commons/thumb/3/3e/Qaraghandy%2C_Kazakhstan.jpg/180px-Qaraghandy%2C_Kazakhstan.jpg 1.5x, //upload.wikimedia.org/wikipedia/commons/thumb/3/3e/Qaraghandy%2C_Kazakhstan.jpg/240px-Qaraghandy%2C_Kazakhstan.jpg 2x\" width=\"120\"/></a><br/><a href=\"/wiki/Karaganda\" title=\"Karaganda\">Karaganda</a>\n",
       " </td></tr>,\n",
       " <tr>\n",
       " <td style=\"text-align:center;background:#f0f0f0;\">2</td>\n",
       " <td style=\"text-align:left;\"><a href=\"/wiki/Nur-Sultan\" title=\"Nur-Sultan\">Nur-Sultan</a></td>\n",
       " <td style=\"text-align:left;\"><a href=\"/wiki/Nur-Sultan\" title=\"Nur-Sultan\">Nur-Sultan</a></td>\n",
       " <td style=\"text-align:right;\">1,078,384\n",
       " </td></tr>,\n",
       " <tr>\n",
       " <td style=\"text-align:center;background:#f0f0f0;\">3</td>\n",
       " <td style=\"text-align:left;\"><a href=\"/wiki/Shymkent\" title=\"Shymkent\">Shymkent</a></td>\n",
       " <td style=\"text-align:left;\"><a href=\"/wiki/Turkistan_Region\" title=\"Turkistan Region\">Turkistan</a></td>\n",
       " <td style=\"text-align:right;\">1,009,086\n",
       " </td></tr>,\n",
       " <tr>\n",
       " <td style=\"text-align:center;background:#f0f0f0;\">4</td>\n",
       " <td style=\"text-align:left;\"><a href=\"/wiki/Karaganda\" title=\"Karaganda\">Karaganda</a></td>\n",
       " <td style=\"text-align:left;\"><a class=\"mw-redirect\" href=\"/wiki/Karagandy_Region\" title=\"Karagandy Region\">Karagandy</a></td>\n",
       " <td style=\"text-align:right;\">497,712\n",
       " </td></tr>,\n",
       " <tr>\n",
       " <td style=\"text-align:center;background:#f0f0f0;\">5</td>\n",
       " <td style=\"text-align:left;\"><a href=\"/wiki/Aktobe\" title=\"Aktobe\">Aktobe</a></td>\n",
       " <td style=\"text-align:left;\"><a href=\"/wiki/Aktobe_Region\" title=\"Aktobe Region\">Aktobe</a></td>\n",
       " <td style=\"text-align:right;\">487,994\n",
       " </td></tr>,\n",
       " <tr>\n",
       " <td style=\"text-align:center;background:#f0f0f0;\">6</td>\n",
       " <td style=\"text-align:left;\"><a href=\"/wiki/Taraz\" title=\"Taraz\">Taraz</a></td>\n",
       " <td style=\"text-align:left;\"><a href=\"/wiki/Jambyl_Region\" title=\"Jambyl Region\">Jambyl</a></td>\n",
       " <td style=\"text-align:right;\">357,791\n",
       " </td></tr>,\n",
       " <tr>\n",
       " <td style=\"text-align:center;background:#f0f0f0;\">7</td>\n",
       " <td style=\"text-align:left;\"><a href=\"/wiki/Pavlodar\" title=\"Pavlodar\">Pavlodar</a></td>\n",
       " <td style=\"text-align:left;\"><a href=\"/wiki/Pavlodar_Region\" title=\"Pavlodar Region\">Pavlodar</a></td>\n",
       " <td style=\"text-align:right;\">333,989\n",
       " </td></tr>,\n",
       " <tr>\n",
       " <td style=\"text-align:center;background:#f0f0f0;\">8</td>\n",
       " <td style=\"text-align:left;\"><a href=\"/wiki/Oskemen\" title=\"Oskemen\">Oskemen</a></td>\n",
       " <td style=\"text-align:left;\"><a href=\"/wiki/East_Kazakhstan_Region\" title=\"East Kazakhstan Region\">East Kazakhstan</a></td>\n",
       " <td style=\"text-align:right;\">331,614\n",
       " </td></tr>,\n",
       " <tr>\n",
       " <td style=\"text-align:center;background:#f0f0f0;\">9</td>\n",
       " <td style=\"text-align:left;\"><a href=\"/wiki/Semey\" title=\"Semey\">Semey</a></td>\n",
       " <td style=\"text-align:left;\"><a href=\"/wiki/East_Kazakhstan_Region\" title=\"East Kazakhstan Region\">East Kazakhstan</a></td>\n",
       " <td style=\"text-align:right;\">323,138\n",
       " </td></tr>,\n",
       " <tr>\n",
       " <td style=\"text-align:center;background:#f0f0f0;\">10</td>\n",
       " <td style=\"text-align:left;\"><a href=\"/wiki/Atyrau\" title=\"Atyrau\">Atyrau</a></td>\n",
       " <td style=\"text-align:left;\"><a href=\"/wiki/Atyrau_Region\" title=\"Atyrau Region\">Atyrau</a></td>\n",
       " <td style=\"text-align:right;\">269,720\n",
       " </td></tr>]"
      ]
     },
     "execution_count": 15,
     "metadata": {},
     "output_type": "execute_result"
    }
   ],
   "source": [
    "table.find_all( \"tr\" )[2:]"
   ]
  },
  {
   "cell_type": "code",
   "execution_count": 16,
   "id": "a719cb7d",
   "metadata": {
    "scrolled": true
   },
   "outputs": [
    {
     "data": {
      "text/plain": [
       "[<td rowspan=\"11\" style=\"text-align: center\"><a class=\"image\" href=\"/wiki/File:View_of_Almaty_from_the_hills.png\" title=\"Almaty\"><img alt=\"Almaty\" class=\"thumbborder\" data-file-height=\"652\" data-file-width=\"1546\" decoding=\"async\" height=\"51\" src=\"//upload.wikimedia.org/wikipedia/commons/thumb/1/1d/View_of_Almaty_from_the_hills.png/120px-View_of_Almaty_from_the_hills.png\" srcset=\"//upload.wikimedia.org/wikipedia/commons/thumb/1/1d/View_of_Almaty_from_the_hills.png/180px-View_of_Almaty_from_the_hills.png 1.5x, //upload.wikimedia.org/wikipedia/commons/thumb/1/1d/View_of_Almaty_from_the_hills.png/240px-View_of_Almaty_from_the_hills.png 2x\" width=\"120\"/></a><br/><a href=\"/wiki/Almaty\" title=\"Almaty\">Almaty</a><br/><a class=\"image\" href=\"/wiki/File:Astana_020000,_Kazakhstan_-_panoramio_(15).jpg\" title=\"Nur-Sultan\"><img alt=\"Nur-Sultan\" class=\"thumbborder\" data-file-height=\"2048\" data-file-width=\"3072\" decoding=\"async\" height=\"80\" src=\"//upload.wikimedia.org/wikipedia/commons/thumb/3/34/Astana_020000%2C_Kazakhstan_-_panoramio_%2815%29.jpg/120px-Astana_020000%2C_Kazakhstan_-_panoramio_%2815%29.jpg\" srcset=\"//upload.wikimedia.org/wikipedia/commons/thumb/3/34/Astana_020000%2C_Kazakhstan_-_panoramio_%2815%29.jpg/180px-Astana_020000%2C_Kazakhstan_-_panoramio_%2815%29.jpg 1.5x, //upload.wikimedia.org/wikipedia/commons/thumb/3/34/Astana_020000%2C_Kazakhstan_-_panoramio_%2815%29.jpg/240px-Astana_020000%2C_Kazakhstan_-_panoramio_%2815%29.jpg 2x\" width=\"120\"/></a><br/><a href=\"/wiki/Nur-Sultan\" title=\"Nur-Sultan\">Nur-Sultan</a>\n",
       " </td>,\n",
       " <td style=\"text-align:center;background:#f0f0f0;\">1</td>,\n",
       " <td style=\"text-align:left;\"><a href=\"/wiki/Almaty\" title=\"Almaty\">Almaty</a></td>,\n",
       " <td style=\"text-align:left;\"><a href=\"/wiki/Almaty\" title=\"Almaty\">Almaty</a></td>,\n",
       " <td style=\"text-align:right;\">1,854,656\n",
       " </td>,\n",
       " <td rowspan=\"11\" style=\"text-align: center\"><a class=\"image\" href=\"/wiki/File:Unnamed_Road,_Kazakhstan_-_panoramio_(44).jpg\" title=\"Shymkent\"><img alt=\"Shymkent\" class=\"thumbborder\" data-file-height=\"4000\" data-file-width=\"6000\" decoding=\"async\" height=\"80\" src=\"//upload.wikimedia.org/wikipedia/commons/thumb/7/71/Unnamed_Road%2C_Kazakhstan_-_panoramio_%2844%29.jpg/120px-Unnamed_Road%2C_Kazakhstan_-_panoramio_%2844%29.jpg\" srcset=\"//upload.wikimedia.org/wikipedia/commons/thumb/7/71/Unnamed_Road%2C_Kazakhstan_-_panoramio_%2844%29.jpg/180px-Unnamed_Road%2C_Kazakhstan_-_panoramio_%2844%29.jpg 1.5x, //upload.wikimedia.org/wikipedia/commons/thumb/7/71/Unnamed_Road%2C_Kazakhstan_-_panoramio_%2844%29.jpg/240px-Unnamed_Road%2C_Kazakhstan_-_panoramio_%2844%29.jpg 2x\" width=\"120\"/></a><br/><a href=\"/wiki/Shymkent\" title=\"Shymkent\">Shymkent</a><br/><a class=\"image\" href=\"/wiki/File:Qaraghandy,_Kazakhstan.jpg\" title=\"Karaganda\"><img alt=\"Karaganda\" class=\"thumbborder\" data-file-height=\"1536\" data-file-width=\"2048\" decoding=\"async\" height=\"90\" src=\"//upload.wikimedia.org/wikipedia/commons/thumb/3/3e/Qaraghandy%2C_Kazakhstan.jpg/120px-Qaraghandy%2C_Kazakhstan.jpg\" srcset=\"//upload.wikimedia.org/wikipedia/commons/thumb/3/3e/Qaraghandy%2C_Kazakhstan.jpg/180px-Qaraghandy%2C_Kazakhstan.jpg 1.5x, //upload.wikimedia.org/wikipedia/commons/thumb/3/3e/Qaraghandy%2C_Kazakhstan.jpg/240px-Qaraghandy%2C_Kazakhstan.jpg 2x\" width=\"120\"/></a><br/><a href=\"/wiki/Karaganda\" title=\"Karaganda\">Karaganda</a>\n",
       " </td>]"
      ]
     },
     "execution_count": 16,
     "metadata": {},
     "output_type": "execute_result"
    }
   ],
   "source": [
    "table.find_all( \"tr\" )[2].find_all( \"td\" )"
   ]
  },
  {
   "cell_type": "code",
   "execution_count": 17,
   "id": "0ada3687",
   "metadata": {
    "scrolled": true
   },
   "outputs": [
    {
     "data": {
      "text/plain": [
       "[<td style=\"text-align:center;background:#f0f0f0;\">1</td>,\n",
       " <td style=\"text-align:left;\"><a href=\"/wiki/Almaty\" title=\"Almaty\">Almaty</a></td>,\n",
       " <td style=\"text-align:left;\"><a href=\"/wiki/Almaty\" title=\"Almaty\">Almaty</a></td>,\n",
       " <td style=\"text-align:right;\">1,854,656\n",
       " </td>]"
      ]
     },
     "execution_count": 17,
     "metadata": {},
     "output_type": "execute_result"
    }
   ],
   "source": [
    "table.find_all( \"tr\" )[2].find_all( \"td\" )[1:5]"
   ]
  },
  {
   "cell_type": "code",
   "execution_count": 18,
   "id": "e2955b1d",
   "metadata": {},
   "outputs": [
    {
     "data": {
      "text/plain": [
       "'1,854,656\\n'"
      ]
     },
     "execution_count": 18,
     "metadata": {},
     "output_type": "execute_result"
    }
   ],
   "source": [
    "table.find_all( \"tr\" )[2].find_all( \"td\" )[4].text"
   ]
  },
  {
   "cell_type": "code",
   "execution_count": 19,
   "id": "89db08dc",
   "metadata": {
    "scrolled": true
   },
   "outputs": [
    {
     "data": {
      "text/plain": [
       "[<td rowspan=\"11\" style=\"text-align: center\"><a class=\"image\" href=\"/wiki/File:View_of_Almaty_from_the_hills.png\" title=\"Almaty\"><img alt=\"Almaty\" class=\"thumbborder\" data-file-height=\"652\" data-file-width=\"1546\" decoding=\"async\" height=\"51\" src=\"//upload.wikimedia.org/wikipedia/commons/thumb/1/1d/View_of_Almaty_from_the_hills.png/120px-View_of_Almaty_from_the_hills.png\" srcset=\"//upload.wikimedia.org/wikipedia/commons/thumb/1/1d/View_of_Almaty_from_the_hills.png/180px-View_of_Almaty_from_the_hills.png 1.5x, //upload.wikimedia.org/wikipedia/commons/thumb/1/1d/View_of_Almaty_from_the_hills.png/240px-View_of_Almaty_from_the_hills.png 2x\" width=\"120\"/></a><br/><a href=\"/wiki/Almaty\" title=\"Almaty\">Almaty</a><br/><a class=\"image\" href=\"/wiki/File:Astana_020000,_Kazakhstan_-_panoramio_(15).jpg\" title=\"Nur-Sultan\"><img alt=\"Nur-Sultan\" class=\"thumbborder\" data-file-height=\"2048\" data-file-width=\"3072\" decoding=\"async\" height=\"80\" src=\"//upload.wikimedia.org/wikipedia/commons/thumb/3/34/Astana_020000%2C_Kazakhstan_-_panoramio_%2815%29.jpg/120px-Astana_020000%2C_Kazakhstan_-_panoramio_%2815%29.jpg\" srcset=\"//upload.wikimedia.org/wikipedia/commons/thumb/3/34/Astana_020000%2C_Kazakhstan_-_panoramio_%2815%29.jpg/180px-Astana_020000%2C_Kazakhstan_-_panoramio_%2815%29.jpg 1.5x, //upload.wikimedia.org/wikipedia/commons/thumb/3/34/Astana_020000%2C_Kazakhstan_-_panoramio_%2815%29.jpg/240px-Astana_020000%2C_Kazakhstan_-_panoramio_%2815%29.jpg 2x\" width=\"120\"/></a><br/><a href=\"/wiki/Nur-Sultan\" title=\"Nur-Sultan\">Nur-Sultan</a>\n",
       " </td>,\n",
       " <td style=\"text-align:center;background:#f0f0f0;\">1</td>,\n",
       " <td style=\"text-align:left;\"><a href=\"/wiki/Almaty\" title=\"Almaty\">Almaty</a></td>,\n",
       " <td style=\"text-align:left;\"><a href=\"/wiki/Almaty\" title=\"Almaty\">Almaty</a></td>,\n",
       " <td style=\"text-align:right;\">1,854,656\n",
       " </td>,\n",
       " <td rowspan=\"11\" style=\"text-align: center\"><a class=\"image\" href=\"/wiki/File:Unnamed_Road,_Kazakhstan_-_panoramio_(44).jpg\" title=\"Shymkent\"><img alt=\"Shymkent\" class=\"thumbborder\" data-file-height=\"4000\" data-file-width=\"6000\" decoding=\"async\" height=\"80\" src=\"//upload.wikimedia.org/wikipedia/commons/thumb/7/71/Unnamed_Road%2C_Kazakhstan_-_panoramio_%2844%29.jpg/120px-Unnamed_Road%2C_Kazakhstan_-_panoramio_%2844%29.jpg\" srcset=\"//upload.wikimedia.org/wikipedia/commons/thumb/7/71/Unnamed_Road%2C_Kazakhstan_-_panoramio_%2844%29.jpg/180px-Unnamed_Road%2C_Kazakhstan_-_panoramio_%2844%29.jpg 1.5x, //upload.wikimedia.org/wikipedia/commons/thumb/7/71/Unnamed_Road%2C_Kazakhstan_-_panoramio_%2844%29.jpg/240px-Unnamed_Road%2C_Kazakhstan_-_panoramio_%2844%29.jpg 2x\" width=\"120\"/></a><br/><a href=\"/wiki/Shymkent\" title=\"Shymkent\">Shymkent</a><br/><a class=\"image\" href=\"/wiki/File:Qaraghandy,_Kazakhstan.jpg\" title=\"Karaganda\"><img alt=\"Karaganda\" class=\"thumbborder\" data-file-height=\"1536\" data-file-width=\"2048\" decoding=\"async\" height=\"90\" src=\"//upload.wikimedia.org/wikipedia/commons/thumb/3/3e/Qaraghandy%2C_Kazakhstan.jpg/120px-Qaraghandy%2C_Kazakhstan.jpg\" srcset=\"//upload.wikimedia.org/wikipedia/commons/thumb/3/3e/Qaraghandy%2C_Kazakhstan.jpg/180px-Qaraghandy%2C_Kazakhstan.jpg 1.5x, //upload.wikimedia.org/wikipedia/commons/thumb/3/3e/Qaraghandy%2C_Kazakhstan.jpg/240px-Qaraghandy%2C_Kazakhstan.jpg 2x\" width=\"120\"/></a><br/><a href=\"/wiki/Karaganda\" title=\"Karaganda\">Karaganda</a>\n",
       " </td>,\n",
       " <td style=\"text-align:center;background:#f0f0f0;\">2</td>,\n",
       " <td style=\"text-align:left;\"><a href=\"/wiki/Nur-Sultan\" title=\"Nur-Sultan\">Nur-Sultan</a></td>,\n",
       " <td style=\"text-align:left;\"><a href=\"/wiki/Nur-Sultan\" title=\"Nur-Sultan\">Nur-Sultan</a></td>,\n",
       " <td style=\"text-align:right;\">1,078,384\n",
       " </td>,\n",
       " <td style=\"text-align:center;background:#f0f0f0;\">3</td>,\n",
       " <td style=\"text-align:left;\"><a href=\"/wiki/Shymkent\" title=\"Shymkent\">Shymkent</a></td>,\n",
       " <td style=\"text-align:left;\"><a href=\"/wiki/Turkistan_Region\" title=\"Turkistan Region\">Turkistan</a></td>,\n",
       " <td style=\"text-align:right;\">1,009,086\n",
       " </td>,\n",
       " <td style=\"text-align:center;background:#f0f0f0;\">4</td>,\n",
       " <td style=\"text-align:left;\"><a href=\"/wiki/Karaganda\" title=\"Karaganda\">Karaganda</a></td>,\n",
       " <td style=\"text-align:left;\"><a class=\"mw-redirect\" href=\"/wiki/Karagandy_Region\" title=\"Karagandy Region\">Karagandy</a></td>,\n",
       " <td style=\"text-align:right;\">497,712\n",
       " </td>,\n",
       " <td style=\"text-align:center;background:#f0f0f0;\">5</td>,\n",
       " <td style=\"text-align:left;\"><a href=\"/wiki/Aktobe\" title=\"Aktobe\">Aktobe</a></td>,\n",
       " <td style=\"text-align:left;\"><a href=\"/wiki/Aktobe_Region\" title=\"Aktobe Region\">Aktobe</a></td>,\n",
       " <td style=\"text-align:right;\">487,994\n",
       " </td>,\n",
       " <td style=\"text-align:center;background:#f0f0f0;\">6</td>,\n",
       " <td style=\"text-align:left;\"><a href=\"/wiki/Taraz\" title=\"Taraz\">Taraz</a></td>,\n",
       " <td style=\"text-align:left;\"><a href=\"/wiki/Jambyl_Region\" title=\"Jambyl Region\">Jambyl</a></td>,\n",
       " <td style=\"text-align:right;\">357,791\n",
       " </td>,\n",
       " <td style=\"text-align:center;background:#f0f0f0;\">7</td>,\n",
       " <td style=\"text-align:left;\"><a href=\"/wiki/Pavlodar\" title=\"Pavlodar\">Pavlodar</a></td>,\n",
       " <td style=\"text-align:left;\"><a href=\"/wiki/Pavlodar_Region\" title=\"Pavlodar Region\">Pavlodar</a></td>,\n",
       " <td style=\"text-align:right;\">333,989\n",
       " </td>,\n",
       " <td style=\"text-align:center;background:#f0f0f0;\">8</td>,\n",
       " <td style=\"text-align:left;\"><a href=\"/wiki/Oskemen\" title=\"Oskemen\">Oskemen</a></td>,\n",
       " <td style=\"text-align:left;\"><a href=\"/wiki/East_Kazakhstan_Region\" title=\"East Kazakhstan Region\">East Kazakhstan</a></td>,\n",
       " <td style=\"text-align:right;\">331,614\n",
       " </td>,\n",
       " <td style=\"text-align:center;background:#f0f0f0;\">9</td>,\n",
       " <td style=\"text-align:left;\"><a href=\"/wiki/Semey\" title=\"Semey\">Semey</a></td>,\n",
       " <td style=\"text-align:left;\"><a href=\"/wiki/East_Kazakhstan_Region\" title=\"East Kazakhstan Region\">East Kazakhstan</a></td>,\n",
       " <td style=\"text-align:right;\">323,138\n",
       " </td>,\n",
       " <td style=\"text-align:center;background:#f0f0f0;\">10</td>,\n",
       " <td style=\"text-align:left;\"><a href=\"/wiki/Atyrau\" title=\"Atyrau\">Atyrau</a></td>,\n",
       " <td style=\"text-align:left;\"><a href=\"/wiki/Atyrau_Region\" title=\"Atyrau Region\">Atyrau</a></td>,\n",
       " <td style=\"text-align:right;\">269,720\n",
       " </td>]"
      ]
     },
     "execution_count": 19,
     "metadata": {},
     "output_type": "execute_result"
    }
   ],
   "source": [
    "columns_values = []\n",
    "for item in table.find_all( \"tr\" ):\n",
    "    for element in item.find_all( \"td\" ):\n",
    "        columns_values.append( element )\n",
    "\n",
    "columns_values"
   ]
  },
  {
   "cell_type": "code",
   "execution_count": 20,
   "id": "c34b03e5",
   "metadata": {
    "scrolled": true
   },
   "outputs": [
    {
     "data": {
      "text/plain": [
       "[<td style=\"text-align:center;background:#f0f0f0;\">1</td>,\n",
       " <td style=\"text-align:left;\"><a href=\"/wiki/Almaty\" title=\"Almaty\">Almaty</a></td>,\n",
       " <td style=\"text-align:left;\"><a href=\"/wiki/Almaty\" title=\"Almaty\">Almaty</a></td>,\n",
       " <td style=\"text-align:right;\">1,854,656\n",
       " </td>,\n",
       " <td style=\"text-align:center;background:#f0f0f0;\">2</td>,\n",
       " <td style=\"text-align:left;\"><a href=\"/wiki/Nur-Sultan\" title=\"Nur-Sultan\">Nur-Sultan</a></td>,\n",
       " <td style=\"text-align:left;\"><a href=\"/wiki/Nur-Sultan\" title=\"Nur-Sultan\">Nur-Sultan</a></td>,\n",
       " <td style=\"text-align:right;\">1,078,384\n",
       " </td>,\n",
       " <td style=\"text-align:center;background:#f0f0f0;\">3</td>,\n",
       " <td style=\"text-align:left;\"><a href=\"/wiki/Shymkent\" title=\"Shymkent\">Shymkent</a></td>,\n",
       " <td style=\"text-align:left;\"><a href=\"/wiki/Turkistan_Region\" title=\"Turkistan Region\">Turkistan</a></td>,\n",
       " <td style=\"text-align:right;\">1,009,086\n",
       " </td>,\n",
       " <td style=\"text-align:center;background:#f0f0f0;\">4</td>,\n",
       " <td style=\"text-align:left;\"><a href=\"/wiki/Karaganda\" title=\"Karaganda\">Karaganda</a></td>,\n",
       " <td style=\"text-align:left;\"><a class=\"mw-redirect\" href=\"/wiki/Karagandy_Region\" title=\"Karagandy Region\">Karagandy</a></td>,\n",
       " <td style=\"text-align:right;\">497,712\n",
       " </td>,\n",
       " <td style=\"text-align:center;background:#f0f0f0;\">5</td>,\n",
       " <td style=\"text-align:left;\"><a href=\"/wiki/Aktobe\" title=\"Aktobe\">Aktobe</a></td>,\n",
       " <td style=\"text-align:left;\"><a href=\"/wiki/Aktobe_Region\" title=\"Aktobe Region\">Aktobe</a></td>,\n",
       " <td style=\"text-align:right;\">487,994\n",
       " </td>,\n",
       " <td style=\"text-align:center;background:#f0f0f0;\">6</td>,\n",
       " <td style=\"text-align:left;\"><a href=\"/wiki/Taraz\" title=\"Taraz\">Taraz</a></td>,\n",
       " <td style=\"text-align:left;\"><a href=\"/wiki/Jambyl_Region\" title=\"Jambyl Region\">Jambyl</a></td>,\n",
       " <td style=\"text-align:right;\">357,791\n",
       " </td>,\n",
       " <td style=\"text-align:center;background:#f0f0f0;\">7</td>,\n",
       " <td style=\"text-align:left;\"><a href=\"/wiki/Pavlodar\" title=\"Pavlodar\">Pavlodar</a></td>,\n",
       " <td style=\"text-align:left;\"><a href=\"/wiki/Pavlodar_Region\" title=\"Pavlodar Region\">Pavlodar</a></td>,\n",
       " <td style=\"text-align:right;\">333,989\n",
       " </td>,\n",
       " <td style=\"text-align:center;background:#f0f0f0;\">8</td>,\n",
       " <td style=\"text-align:left;\"><a href=\"/wiki/Oskemen\" title=\"Oskemen\">Oskemen</a></td>,\n",
       " <td style=\"text-align:left;\"><a href=\"/wiki/East_Kazakhstan_Region\" title=\"East Kazakhstan Region\">East Kazakhstan</a></td>,\n",
       " <td style=\"text-align:right;\">331,614\n",
       " </td>,\n",
       " <td style=\"text-align:center;background:#f0f0f0;\">9</td>,\n",
       " <td style=\"text-align:left;\"><a href=\"/wiki/Semey\" title=\"Semey\">Semey</a></td>,\n",
       " <td style=\"text-align:left;\"><a href=\"/wiki/East_Kazakhstan_Region\" title=\"East Kazakhstan Region\">East Kazakhstan</a></td>,\n",
       " <td style=\"text-align:right;\">323,138\n",
       " </td>,\n",
       " <td style=\"text-align:center;background:#f0f0f0;\">10</td>,\n",
       " <td style=\"text-align:left;\"><a href=\"/wiki/Atyrau\" title=\"Atyrau\">Atyrau</a></td>,\n",
       " <td style=\"text-align:left;\"><a href=\"/wiki/Atyrau_Region\" title=\"Atyrau Region\">Atyrau</a></td>,\n",
       " <td style=\"text-align:right;\">269,720\n",
       " </td>]"
      ]
     },
     "execution_count": 20,
     "metadata": {},
     "output_type": "execute_result"
    }
   ],
   "source": [
    "columns_values.pop( 0 ) # deleting the first \"td\" tag, as it contains images\n",
    "columns_values.pop( 4 ) # deleting the sixth \"td\" tag, as it contains images\n",
    "columns_values"
   ]
  },
  {
   "cell_type": "code",
   "execution_count": 21,
   "id": "bb856025",
   "metadata": {
    "scrolled": false
   },
   "outputs": [
    {
     "name": "stdout",
     "output_type": "stream",
     "text": [
      "['1', 'Almaty', 'Almaty', '1,854,656', '2', 'Nur-Sultan', 'Nur-Sultan', '1,078,384', '3', 'Shymkent', 'Turkistan', '1,009,086', '4', 'Karaganda', 'Karagandy', '497,712', '5', 'Aktobe', 'Aktobe', '487,994', '6', 'Taraz', 'Jambyl', '357,791', '7', 'Pavlodar', 'Pavlodar', '333,989', '8', 'Oskemen', 'East Kazakhstan', '331,614', '9', 'Semey', 'East Kazakhstan', '323,138', '10', 'Atyrau', 'Atyrau', '269,720']\n"
     ]
    }
   ],
   "source": [
    "all_columns = [col.text.strip( ) for col in columns_values]\n",
    "        \n",
    "print( all_columns )"
   ]
  },
  {
   "cell_type": "code",
   "execution_count": 22,
   "id": "028dc127",
   "metadata": {},
   "outputs": [
    {
     "data": {
      "text/plain": [
       "[array(['1', 'Almaty', 'Almaty', '1,854,656'], dtype='<U15'),\n",
       " array(['2', 'Nur-Sultan', 'Nur-Sultan', '1,078,384'], dtype='<U15'),\n",
       " array(['3', 'Shymkent', 'Turkistan', '1,009,086'], dtype='<U15'),\n",
       " array(['4', 'Karaganda', 'Karagandy', '497,712'], dtype='<U15'),\n",
       " array(['5', 'Aktobe', 'Aktobe', '487,994'], dtype='<U15'),\n",
       " array(['6', 'Taraz', 'Jambyl', '357,791'], dtype='<U15'),\n",
       " array(['7', 'Pavlodar', 'Pavlodar', '333,989'], dtype='<U15'),\n",
       " array(['8', 'Oskemen', 'East Kazakhstan', '331,614'], dtype='<U15'),\n",
       " array(['9', 'Semey', 'East Kazakhstan', '323,138'], dtype='<U15'),\n",
       " array(['10', 'Atyrau', 'Atyrau', '269,720'], dtype='<U15')]"
      ]
     },
     "execution_count": 22,
     "metadata": {},
     "output_type": "execute_result"
    }
   ],
   "source": [
    "import numpy as np\n",
    "\n",
    "split_cols = np.array_split( all_columns, 10 )\n",
    "split_cols"
   ]
  },
  {
   "cell_type": "code",
   "execution_count": 23,
   "id": "13dc8b1f",
   "metadata": {},
   "outputs": [
    {
     "data": {
      "text/html": [
       "<div>\n",
       "<style scoped>\n",
       "    .dataframe tbody tr th:only-of-type {\n",
       "        vertical-align: middle;\n",
       "    }\n",
       "\n",
       "    .dataframe tbody tr th {\n",
       "        vertical-align: top;\n",
       "    }\n",
       "\n",
       "    .dataframe thead th {\n",
       "        text-align: right;\n",
       "    }\n",
       "</style>\n",
       "<table border=\"1\" class=\"dataframe\">\n",
       "  <thead>\n",
       "    <tr style=\"text-align: right;\">\n",
       "      <th></th>\n",
       "      <th>Rank</th>\n",
       "      <th>Name</th>\n",
       "      <th>Region</th>\n",
       "      <th>Pop.</th>\n",
       "    </tr>\n",
       "  </thead>\n",
       "  <tbody>\n",
       "    <tr>\n",
       "      <th>0</th>\n",
       "      <td>1</td>\n",
       "      <td>Almaty</td>\n",
       "      <td>Almaty</td>\n",
       "      <td>1,854,656</td>\n",
       "    </tr>\n",
       "    <tr>\n",
       "      <th>1</th>\n",
       "      <td>2</td>\n",
       "      <td>Nur-Sultan</td>\n",
       "      <td>Nur-Sultan</td>\n",
       "      <td>1,078,384</td>\n",
       "    </tr>\n",
       "    <tr>\n",
       "      <th>2</th>\n",
       "      <td>3</td>\n",
       "      <td>Shymkent</td>\n",
       "      <td>Turkistan</td>\n",
       "      <td>1,009,086</td>\n",
       "    </tr>\n",
       "    <tr>\n",
       "      <th>3</th>\n",
       "      <td>4</td>\n",
       "      <td>Karaganda</td>\n",
       "      <td>Karagandy</td>\n",
       "      <td>497,712</td>\n",
       "    </tr>\n",
       "    <tr>\n",
       "      <th>4</th>\n",
       "      <td>5</td>\n",
       "      <td>Aktobe</td>\n",
       "      <td>Aktobe</td>\n",
       "      <td>487,994</td>\n",
       "    </tr>\n",
       "    <tr>\n",
       "      <th>5</th>\n",
       "      <td>6</td>\n",
       "      <td>Taraz</td>\n",
       "      <td>Jambyl</td>\n",
       "      <td>357,791</td>\n",
       "    </tr>\n",
       "    <tr>\n",
       "      <th>6</th>\n",
       "      <td>7</td>\n",
       "      <td>Pavlodar</td>\n",
       "      <td>Pavlodar</td>\n",
       "      <td>333,989</td>\n",
       "    </tr>\n",
       "    <tr>\n",
       "      <th>7</th>\n",
       "      <td>8</td>\n",
       "      <td>Oskemen</td>\n",
       "      <td>East Kazakhstan</td>\n",
       "      <td>331,614</td>\n",
       "    </tr>\n",
       "    <tr>\n",
       "      <th>8</th>\n",
       "      <td>9</td>\n",
       "      <td>Semey</td>\n",
       "      <td>East Kazakhstan</td>\n",
       "      <td>323,138</td>\n",
       "    </tr>\n",
       "    <tr>\n",
       "      <th>9</th>\n",
       "      <td>10</td>\n",
       "      <td>Atyrau</td>\n",
       "      <td>Atyrau</td>\n",
       "      <td>269,720</td>\n",
       "    </tr>\n",
       "  </tbody>\n",
       "</table>\n",
       "</div>"
      ],
      "text/plain": [
       "  Rank        Name           Region       Pop.\n",
       "0    1      Almaty           Almaty  1,854,656\n",
       "1    2  Nur-Sultan       Nur-Sultan  1,078,384\n",
       "2    3    Shymkent        Turkistan  1,009,086\n",
       "3    4   Karaganda        Karagandy    497,712\n",
       "4    5      Aktobe           Aktobe    487,994\n",
       "5    6       Taraz           Jambyl    357,791\n",
       "6    7    Pavlodar         Pavlodar    333,989\n",
       "7    8     Oskemen  East Kazakhstan    331,614\n",
       "8    9       Semey  East Kazakhstan    323,138\n",
       "9   10      Atyrau           Atyrau    269,720"
      ]
     },
     "execution_count": 23,
     "metadata": {},
     "output_type": "execute_result"
    }
   ],
   "source": [
    "result = pd.DataFrame( split_cols, columns = [\"Rank\", \"Name\", \"Region\", \"Pop.\"] )\n",
    "result"
   ]
  },
  {
   "cell_type": "code",
   "execution_count": 24,
   "id": "fcfc136f",
   "metadata": {},
   "outputs": [
    {
     "data": {
      "text/html": [
       "<div>\n",
       "<style scoped>\n",
       "    .dataframe tbody tr th:only-of-type {\n",
       "        vertical-align: middle;\n",
       "    }\n",
       "\n",
       "    .dataframe tbody tr th {\n",
       "        vertical-align: top;\n",
       "    }\n",
       "\n",
       "    .dataframe thead th {\n",
       "        text-align: right;\n",
       "    }\n",
       "</style>\n",
       "<table border=\"1\" class=\"dataframe\">\n",
       "  <thead>\n",
       "    <tr style=\"text-align: right;\">\n",
       "      <th></th>\n",
       "      <th>Name</th>\n",
       "      <th>Region</th>\n",
       "      <th>Pop.</th>\n",
       "    </tr>\n",
       "    <tr>\n",
       "      <th>Rank</th>\n",
       "      <th></th>\n",
       "      <th></th>\n",
       "      <th></th>\n",
       "    </tr>\n",
       "  </thead>\n",
       "  <tbody>\n",
       "    <tr>\n",
       "      <th>1</th>\n",
       "      <td>Almaty</td>\n",
       "      <td>Almaty</td>\n",
       "      <td>1,854,656</td>\n",
       "    </tr>\n",
       "    <tr>\n",
       "      <th>2</th>\n",
       "      <td>Nur-Sultan</td>\n",
       "      <td>Nur-Sultan</td>\n",
       "      <td>1,078,384</td>\n",
       "    </tr>\n",
       "    <tr>\n",
       "      <th>3</th>\n",
       "      <td>Shymkent</td>\n",
       "      <td>Turkistan</td>\n",
       "      <td>1,009,086</td>\n",
       "    </tr>\n",
       "    <tr>\n",
       "      <th>4</th>\n",
       "      <td>Karaganda</td>\n",
       "      <td>Karagandy</td>\n",
       "      <td>497,712</td>\n",
       "    </tr>\n",
       "    <tr>\n",
       "      <th>5</th>\n",
       "      <td>Aktobe</td>\n",
       "      <td>Aktobe</td>\n",
       "      <td>487,994</td>\n",
       "    </tr>\n",
       "    <tr>\n",
       "      <th>6</th>\n",
       "      <td>Taraz</td>\n",
       "      <td>Jambyl</td>\n",
       "      <td>357,791</td>\n",
       "    </tr>\n",
       "    <tr>\n",
       "      <th>7</th>\n",
       "      <td>Pavlodar</td>\n",
       "      <td>Pavlodar</td>\n",
       "      <td>333,989</td>\n",
       "    </tr>\n",
       "    <tr>\n",
       "      <th>8</th>\n",
       "      <td>Oskemen</td>\n",
       "      <td>East Kazakhstan</td>\n",
       "      <td>331,614</td>\n",
       "    </tr>\n",
       "    <tr>\n",
       "      <th>9</th>\n",
       "      <td>Semey</td>\n",
       "      <td>East Kazakhstan</td>\n",
       "      <td>323,138</td>\n",
       "    </tr>\n",
       "    <tr>\n",
       "      <th>10</th>\n",
       "      <td>Atyrau</td>\n",
       "      <td>Atyrau</td>\n",
       "      <td>269,720</td>\n",
       "    </tr>\n",
       "  </tbody>\n",
       "</table>\n",
       "</div>"
      ],
      "text/plain": [
       "            Name           Region       Pop.\n",
       "Rank                                        \n",
       "1         Almaty           Almaty  1,854,656\n",
       "2     Nur-Sultan       Nur-Sultan  1,078,384\n",
       "3       Shymkent        Turkistan  1,009,086\n",
       "4      Karaganda        Karagandy    497,712\n",
       "5         Aktobe           Aktobe    487,994\n",
       "6          Taraz           Jambyl    357,791\n",
       "7       Pavlodar         Pavlodar    333,989\n",
       "8        Oskemen  East Kazakhstan    331,614\n",
       "9          Semey  East Kazakhstan    323,138\n",
       "10        Atyrau           Atyrau    269,720"
      ]
     },
     "execution_count": 24,
     "metadata": {},
     "output_type": "execute_result"
    }
   ],
   "source": [
    "result.set_index( \"Rank\", inplace = True )\n",
    "result"
   ]
  },
  {
   "cell_type": "markdown",
   "id": "f7e5d820",
   "metadata": {},
   "source": [
    "### The resulting dataframe is exactly the same as it should have looked like, so I successfully scraped this table from Wikipedia."
   ]
  },
  {
   "cell_type": "code",
   "execution_count": null,
   "id": "0ce4abba",
   "metadata": {},
   "outputs": [],
   "source": []
  }
 ],
 "metadata": {
  "kernelspec": {
   "display_name": "Python 3 (ipykernel)",
   "language": "python",
   "name": "python3"
  },
  "language_info": {
   "codemirror_mode": {
    "name": "ipython",
    "version": 3
   },
   "file_extension": ".py",
   "mimetype": "text/x-python",
   "name": "python",
   "nbconvert_exporter": "python",
   "pygments_lexer": "ipython3",
   "version": "3.9.7"
  }
 },
 "nbformat": 4,
 "nbformat_minor": 5
}
